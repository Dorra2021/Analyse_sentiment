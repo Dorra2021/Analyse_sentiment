{
  "nbformat": 4,
  "nbformat_minor": 0,
  "metadata": {
    "colab": {
      "name": "Squid_Game_Final_git",
      "provenance": [],
      "authorship_tag": "ABX9TyMKtaecuFx8+bsZugZeMeNo",
      "include_colab_link": true
    },
    "kernelspec": {
      "name": "python3",
      "display_name": "Python 3"
    },
    "language_info": {
      "name": "python"
    }
  },
  "cells": [
    {
      "cell_type": "markdown",
      "metadata": {
        "id": "view-in-github",
        "colab_type": "text"
      },
      "source": [
        "<a href=\"https://colab.research.google.com/github/Dorra2021/Analyse_sentiment/blob/main/Squid_Game_Final_git.ipynb\" target=\"_parent\"><img src=\"https://colab.research.google.com/assets/colab-badge.svg\" alt=\"Open In Colab\"/></a>"
      ]
    },
    {
      "cell_type": "markdown",
      "source": [
        "##Importation"
      ],
      "metadata": {
        "id": "6f2ILUCf1EHW"
      }
    },
    {
      "cell_type": "code",
      "source": [
        "!pip install dateparser\n",
        "!pip install scattertext\n"
      ],
      "metadata": {
        "colab": {
          "base_uri": "https://localhost:8080/"
        },
        "id": "pjFjYRMPe3TK",
        "outputId": "6f888172-c497-4f24-c2ae-148df84157be"
      },
      "execution_count": 11,
      "outputs": [
        {
          "output_type": "stream",
          "name": "stdout",
          "text": [
            "Requirement already satisfied: dateparser in /usr/local/lib/python3.7/dist-packages (1.1.1)\n",
            "Requirement already satisfied: tzlocal in /usr/local/lib/python3.7/dist-packages (from dateparser) (1.5.1)\n",
            "Requirement already satisfied: python-dateutil in /usr/local/lib/python3.7/dist-packages (from dateparser) (2.8.2)\n",
            "Requirement already satisfied: regex!=2019.02.19,!=2021.8.27,<2022.3.15 in /usr/local/lib/python3.7/dist-packages (from dateparser) (2019.12.20)\n",
            "Requirement already satisfied: pytz in /usr/local/lib/python3.7/dist-packages (from dateparser) (2018.9)\n",
            "Requirement already satisfied: six>=1.5 in /usr/local/lib/python3.7/dist-packages (from python-dateutil->dateparser) (1.15.0)\n",
            "Requirement already satisfied: scattertext in /usr/local/lib/python3.7/dist-packages (0.1.6)\n",
            "Requirement already satisfied: gensim>=4.0.0 in /usr/local/lib/python3.7/dist-packages (from scattertext) (4.1.2)\n",
            "Requirement already satisfied: scipy in /usr/local/lib/python3.7/dist-packages (from scattertext) (1.4.1)\n",
            "Requirement already satisfied: statsmodels in /usr/local/lib/python3.7/dist-packages (from scattertext) (0.10.2)\n",
            "Requirement already satisfied: pandas in /usr/local/lib/python3.7/dist-packages (from scattertext) (1.3.5)\n",
            "Requirement already satisfied: six in /usr/local/lib/python3.7/dist-packages (from scattertext) (1.15.0)\n",
            "Requirement already satisfied: scikit-learn in /usr/local/lib/python3.7/dist-packages (from scattertext) (1.0.2)\n",
            "Requirement already satisfied: flashtext in /usr/local/lib/python3.7/dist-packages (from scattertext) (2.7)\n",
            "Requirement already satisfied: mock in /usr/local/lib/python3.7/dist-packages (from scattertext) (4.0.3)\n",
            "Requirement already satisfied: numpy in /usr/local/lib/python3.7/dist-packages (from scattertext) (1.21.5)\n",
            "Requirement already satisfied: smart-open>=1.8.1 in /usr/local/lib/python3.7/dist-packages (from gensim>=4.0.0->scattertext) (5.2.1)\n",
            "Requirement already satisfied: pytz>=2017.3 in /usr/local/lib/python3.7/dist-packages (from pandas->scattertext) (2018.9)\n",
            "Requirement already satisfied: python-dateutil>=2.7.3 in /usr/local/lib/python3.7/dist-packages (from pandas->scattertext) (2.8.2)\n",
            "Requirement already satisfied: joblib>=0.11 in /usr/local/lib/python3.7/dist-packages (from scikit-learn->scattertext) (1.1.0)\n",
            "Requirement already satisfied: threadpoolctl>=2.0.0 in /usr/local/lib/python3.7/dist-packages (from scikit-learn->scattertext) (3.1.0)\n",
            "Requirement already satisfied: patsy>=0.4.0 in /usr/local/lib/python3.7/dist-packages (from statsmodels->scattertext) (0.5.2)\n"
          ]
        }
      ]
    },
    {
      "cell_type": "markdown",
      "source": [
        "##Drive"
      ],
      "metadata": {
        "id": "d2txnIBj1Nn6"
      }
    },
    {
      "cell_type": "code",
      "source": [
        "import numpy as np\n",
        "import pandas as pd\n",
        "import re\n",
        "import matplotlib.pyplot as plt\n",
        "import dateparser\n",
        "import seaborn as sns\n",
        "from sklearn.model_selection import train_test_split\n",
        "import nltk\n",
        "from nltk.tokenize import word_tokenize\n",
        "nltk.download('punkt')\n",
        "from nltk.stem.snowball import SnowballStemmer\n",
        "from nltk.corpus import stopwords\n",
        "nltk.download('stopwords')\n",
        "from sklearn.feature_extraction.text import TfidfVectorizer\n",
        "from sklearn.feature_extraction.text import CountVectorizer \n",
        "import math\n",
        "from sklearn.metrics import confusion_matrix\n",
        "from sklearn.metrics import ConfusionMatrixDisplay\n",
        "from sklearn.naive_bayes import BernoulliNB, MultinomialNB, GaussianNB\n",
        "from sklearn import metrics"
      ],
      "metadata": {
        "colab": {
          "base_uri": "https://localhost:8080/"
        },
        "id": "gh49EVO-aY3u",
        "outputId": "b4f98584-d929-40e5-ee6d-19d842732055"
      },
      "execution_count": 12,
      "outputs": [
        {
          "output_type": "stream",
          "name": "stdout",
          "text": [
            "[nltk_data] Downloading package punkt to /root/nltk_data...\n",
            "[nltk_data]   Package punkt is already up-to-date!\n",
            "[nltk_data] Downloading package stopwords to /root/nltk_data...\n",
            "[nltk_data]   Package stopwords is already up-to-date!\n"
          ]
        }
      ]
    },
    {
      "cell_type": "code",
      "source": [
        "#1) import des données\n",
        "import os\n",
        "from google.colab import drive\n",
        "drive.mount('/content/drive')\n",
        "os.chdir('/content/drive/My Drive/NLP/')\n",
        "df = pd.read_csv('allocine_squidgame.csv')"
      ],
      "metadata": {
        "id": "tTC9O9UDTank",
        "colab": {
          "base_uri": "https://localhost:8080/"
        },
        "outputId": "15ef9bb9-83d2-4c0f-da1a-627722ac8011"
      },
      "execution_count": 13,
      "outputs": [
        {
          "output_type": "stream",
          "name": "stdout",
          "text": [
            "Drive already mounted at /content/drive; to attempt to forcibly remount, call drive.mount(\"/content/drive\", force_remount=True).\n"
          ]
        }
      ]
    },
    {
      "cell_type": "markdown",
      "source": [
        "#Nettoyage"
      ],
      "metadata": {
        "id": "cXhLSq_31YpV"
      }
    },
    {
      "cell_type": "code",
      "source": [
        "df.head()"
      ],
      "metadata": {
        "colab": {
          "base_uri": "https://localhost:8080/",
          "height": 206
        },
        "id": "XlZ629c_TjdD",
        "outputId": "88aa744b-926c-4e6d-e6f7-014e903d45a8"
      },
      "execution_count": 14,
      "outputs": [
        {
          "output_type": "execute_result",
          "data": {
            "text/plain": [
              "  Note                                        Description  \\\n",
              "0  3,0  On s'attendait à une fin plus élaborée, claire...   \n",
              "1  2,5  Encore une série très sur-côtée ! Tout est pré...   \n",
              "2  4,5  Pas fan des séries coréennes en général. Je do...   \n",
              "3  4,5  Disons le tout de suite, je suis fan depuis 30...   \n",
              "4  4,0  Visuellement recherché, très ludique, rythmé e...   \n",
              "\n",
              "                           Date nombre_good        nombre_follow  key  \n",
              "0     Publiée le 2 octobre 2021  22\\n\\n\\n10  Suivre son activité    0  \n",
              "1     Publiée le 1 octobre 2021  24\\n\\n\\n12  Suivre son activité    1  \n",
              "2  Publiée le 22 septembre 2021  20\\n\\n\\n21  Suivre son activité    2  \n",
              "3     Publiée le 5 octobre 2021   9\\n\\n\\n10  Suivre son activité    3  \n",
              "4  Publiée le 25 septembre 2021  7\\n\\n\\n\\n9  Suivre son activité    4  "
            ],
            "text/html": [
              "\n",
              "  <div id=\"df-5da85335-5fc4-434d-b0a7-34293559084b\">\n",
              "    <div class=\"colab-df-container\">\n",
              "      <div>\n",
              "<style scoped>\n",
              "    .dataframe tbody tr th:only-of-type {\n",
              "        vertical-align: middle;\n",
              "    }\n",
              "\n",
              "    .dataframe tbody tr th {\n",
              "        vertical-align: top;\n",
              "    }\n",
              "\n",
              "    .dataframe thead th {\n",
              "        text-align: right;\n",
              "    }\n",
              "</style>\n",
              "<table border=\"1\" class=\"dataframe\">\n",
              "  <thead>\n",
              "    <tr style=\"text-align: right;\">\n",
              "      <th></th>\n",
              "      <th>Note</th>\n",
              "      <th>Description</th>\n",
              "      <th>Date</th>\n",
              "      <th>nombre_good</th>\n",
              "      <th>nombre_follow</th>\n",
              "      <th>key</th>\n",
              "    </tr>\n",
              "  </thead>\n",
              "  <tbody>\n",
              "    <tr>\n",
              "      <th>0</th>\n",
              "      <td>3,0</td>\n",
              "      <td>On s'attendait à une fin plus élaborée, claire...</td>\n",
              "      <td>Publiée le 2 octobre 2021</td>\n",
              "      <td>22\\n\\n\\n10</td>\n",
              "      <td>Suivre son activité</td>\n",
              "      <td>0</td>\n",
              "    </tr>\n",
              "    <tr>\n",
              "      <th>1</th>\n",
              "      <td>2,5</td>\n",
              "      <td>Encore une série très sur-côtée ! Tout est pré...</td>\n",
              "      <td>Publiée le 1 octobre 2021</td>\n",
              "      <td>24\\n\\n\\n12</td>\n",
              "      <td>Suivre son activité</td>\n",
              "      <td>1</td>\n",
              "    </tr>\n",
              "    <tr>\n",
              "      <th>2</th>\n",
              "      <td>4,5</td>\n",
              "      <td>Pas fan des séries coréennes en général. Je do...</td>\n",
              "      <td>Publiée le 22 septembre 2021</td>\n",
              "      <td>20\\n\\n\\n21</td>\n",
              "      <td>Suivre son activité</td>\n",
              "      <td>2</td>\n",
              "    </tr>\n",
              "    <tr>\n",
              "      <th>3</th>\n",
              "      <td>4,5</td>\n",
              "      <td>Disons le tout de suite, je suis fan depuis 30...</td>\n",
              "      <td>Publiée le 5 octobre 2021</td>\n",
              "      <td>9\\n\\n\\n10</td>\n",
              "      <td>Suivre son activité</td>\n",
              "      <td>3</td>\n",
              "    </tr>\n",
              "    <tr>\n",
              "      <th>4</th>\n",
              "      <td>4,0</td>\n",
              "      <td>Visuellement recherché, très ludique, rythmé e...</td>\n",
              "      <td>Publiée le 25 septembre 2021</td>\n",
              "      <td>7\\n\\n\\n\\n9</td>\n",
              "      <td>Suivre son activité</td>\n",
              "      <td>4</td>\n",
              "    </tr>\n",
              "  </tbody>\n",
              "</table>\n",
              "</div>\n",
              "      <button class=\"colab-df-convert\" onclick=\"convertToInteractive('df-5da85335-5fc4-434d-b0a7-34293559084b')\"\n",
              "              title=\"Convert this dataframe to an interactive table.\"\n",
              "              style=\"display:none;\">\n",
              "        \n",
              "  <svg xmlns=\"http://www.w3.org/2000/svg\" height=\"24px\"viewBox=\"0 0 24 24\"\n",
              "       width=\"24px\">\n",
              "    <path d=\"M0 0h24v24H0V0z\" fill=\"none\"/>\n",
              "    <path d=\"M18.56 5.44l.94 2.06.94-2.06 2.06-.94-2.06-.94-.94-2.06-.94 2.06-2.06.94zm-11 1L8.5 8.5l.94-2.06 2.06-.94-2.06-.94L8.5 2.5l-.94 2.06-2.06.94zm10 10l.94 2.06.94-2.06 2.06-.94-2.06-.94-.94-2.06-.94 2.06-2.06.94z\"/><path d=\"M17.41 7.96l-1.37-1.37c-.4-.4-.92-.59-1.43-.59-.52 0-1.04.2-1.43.59L10.3 9.45l-7.72 7.72c-.78.78-.78 2.05 0 2.83L4 21.41c.39.39.9.59 1.41.59.51 0 1.02-.2 1.41-.59l7.78-7.78 2.81-2.81c.8-.78.8-2.07 0-2.86zM5.41 20L4 18.59l7.72-7.72 1.47 1.35L5.41 20z\"/>\n",
              "  </svg>\n",
              "      </button>\n",
              "      \n",
              "  <style>\n",
              "    .colab-df-container {\n",
              "      display:flex;\n",
              "      flex-wrap:wrap;\n",
              "      gap: 12px;\n",
              "    }\n",
              "\n",
              "    .colab-df-convert {\n",
              "      background-color: #E8F0FE;\n",
              "      border: none;\n",
              "      border-radius: 50%;\n",
              "      cursor: pointer;\n",
              "      display: none;\n",
              "      fill: #1967D2;\n",
              "      height: 32px;\n",
              "      padding: 0 0 0 0;\n",
              "      width: 32px;\n",
              "    }\n",
              "\n",
              "    .colab-df-convert:hover {\n",
              "      background-color: #E2EBFA;\n",
              "      box-shadow: 0px 1px 2px rgba(60, 64, 67, 0.3), 0px 1px 3px 1px rgba(60, 64, 67, 0.15);\n",
              "      fill: #174EA6;\n",
              "    }\n",
              "\n",
              "    [theme=dark] .colab-df-convert {\n",
              "      background-color: #3B4455;\n",
              "      fill: #D2E3FC;\n",
              "    }\n",
              "\n",
              "    [theme=dark] .colab-df-convert:hover {\n",
              "      background-color: #434B5C;\n",
              "      box-shadow: 0px 1px 3px 1px rgba(0, 0, 0, 0.15);\n",
              "      filter: drop-shadow(0px 1px 2px rgba(0, 0, 0, 0.3));\n",
              "      fill: #FFFFFF;\n",
              "    }\n",
              "  </style>\n",
              "\n",
              "      <script>\n",
              "        const buttonEl =\n",
              "          document.querySelector('#df-5da85335-5fc4-434d-b0a7-34293559084b button.colab-df-convert');\n",
              "        buttonEl.style.display =\n",
              "          google.colab.kernel.accessAllowed ? 'block' : 'none';\n",
              "\n",
              "        async function convertToInteractive(key) {\n",
              "          const element = document.querySelector('#df-5da85335-5fc4-434d-b0a7-34293559084b');\n",
              "          const dataTable =\n",
              "            await google.colab.kernel.invokeFunction('convertToInteractive',\n",
              "                                                     [key], {});\n",
              "          if (!dataTable) return;\n",
              "\n",
              "          const docLinkHtml = 'Like what you see? Visit the ' +\n",
              "            '<a target=\"_blank\" href=https://colab.research.google.com/notebooks/data_table.ipynb>data table notebook</a>'\n",
              "            + ' to learn more about interactive tables.';\n",
              "          element.innerHTML = '';\n",
              "          dataTable['output_type'] = 'display_data';\n",
              "          await google.colab.output.renderOutput(dataTable, element);\n",
              "          const docLink = document.createElement('div');\n",
              "          docLink.innerHTML = docLinkHtml;\n",
              "          element.appendChild(docLink);\n",
              "        }\n",
              "      </script>\n",
              "    </div>\n",
              "  </div>\n",
              "  "
            ]
          },
          "metadata": {},
          "execution_count": 14
        }
      ]
    },
    {
      "cell_type": "code",
      "source": [
        "df.tail()"
      ],
      "metadata": {
        "colab": {
          "base_uri": "https://localhost:8080/",
          "height": 206
        },
        "id": "aofHvQf2UDF3",
        "outputId": "b9a8f998-9496-418c-d47c-67b120852786"
      },
      "execution_count": 15,
      "outputs": [
        {
          "output_type": "execute_result",
          "data": {
            "text/plain": [
              "    Note                                        Description  \\\n",
              "336  5,0  Vraiment une des meilleures séries que j'ai vu...   \n",
              "337  4,5  Une série qui fait réfléchir.La série met en s...   \n",
              "338  4,0  très bonne série nous tiens en haleine du débu...   \n",
              "339  3,5  Bonne série,je trouve que c'est une version so...   \n",
              "340  4,5  Squid Game, encore une série Coréenne exceptio...   \n",
              "\n",
              "                           Date nombre_good        nombre_follow  key  \n",
              "336  Publiée le 24 octobre 2021    0\\n\\n\\n1  Suivre son activité   10  \n",
              "337  Publiée le 26 octobre 2021    0\\n\\n\\n0  Suivre son activité   11  \n",
              "338  Publiée le 26 octobre 2021    0\\n\\n\\n0  Suivre son activité   12  \n",
              "339  Publiée le 21 octobre 2021    0\\n\\n\\n0  Suivre son activité   13  \n",
              "340  Publiée le 26 octobre 2021    0\\n\\n\\n0  Suivre son activité   14  "
            ],
            "text/html": [
              "\n",
              "  <div id=\"df-b71c243f-9e34-4ce4-bace-7efd4cf7c815\">\n",
              "    <div class=\"colab-df-container\">\n",
              "      <div>\n",
              "<style scoped>\n",
              "    .dataframe tbody tr th:only-of-type {\n",
              "        vertical-align: middle;\n",
              "    }\n",
              "\n",
              "    .dataframe tbody tr th {\n",
              "        vertical-align: top;\n",
              "    }\n",
              "\n",
              "    .dataframe thead th {\n",
              "        text-align: right;\n",
              "    }\n",
              "</style>\n",
              "<table border=\"1\" class=\"dataframe\">\n",
              "  <thead>\n",
              "    <tr style=\"text-align: right;\">\n",
              "      <th></th>\n",
              "      <th>Note</th>\n",
              "      <th>Description</th>\n",
              "      <th>Date</th>\n",
              "      <th>nombre_good</th>\n",
              "      <th>nombre_follow</th>\n",
              "      <th>key</th>\n",
              "    </tr>\n",
              "  </thead>\n",
              "  <tbody>\n",
              "    <tr>\n",
              "      <th>336</th>\n",
              "      <td>5,0</td>\n",
              "      <td>Vraiment une des meilleures séries que j'ai vu...</td>\n",
              "      <td>Publiée le 24 octobre 2021</td>\n",
              "      <td>0\\n\\n\\n1</td>\n",
              "      <td>Suivre son activité</td>\n",
              "      <td>10</td>\n",
              "    </tr>\n",
              "    <tr>\n",
              "      <th>337</th>\n",
              "      <td>4,5</td>\n",
              "      <td>Une série qui fait réfléchir.La série met en s...</td>\n",
              "      <td>Publiée le 26 octobre 2021</td>\n",
              "      <td>0\\n\\n\\n0</td>\n",
              "      <td>Suivre son activité</td>\n",
              "      <td>11</td>\n",
              "    </tr>\n",
              "    <tr>\n",
              "      <th>338</th>\n",
              "      <td>4,0</td>\n",
              "      <td>très bonne série nous tiens en haleine du débu...</td>\n",
              "      <td>Publiée le 26 octobre 2021</td>\n",
              "      <td>0\\n\\n\\n0</td>\n",
              "      <td>Suivre son activité</td>\n",
              "      <td>12</td>\n",
              "    </tr>\n",
              "    <tr>\n",
              "      <th>339</th>\n",
              "      <td>3,5</td>\n",
              "      <td>Bonne série,je trouve que c'est une version so...</td>\n",
              "      <td>Publiée le 21 octobre 2021</td>\n",
              "      <td>0\\n\\n\\n0</td>\n",
              "      <td>Suivre son activité</td>\n",
              "      <td>13</td>\n",
              "    </tr>\n",
              "    <tr>\n",
              "      <th>340</th>\n",
              "      <td>4,5</td>\n",
              "      <td>Squid Game, encore une série Coréenne exceptio...</td>\n",
              "      <td>Publiée le 26 octobre 2021</td>\n",
              "      <td>0\\n\\n\\n0</td>\n",
              "      <td>Suivre son activité</td>\n",
              "      <td>14</td>\n",
              "    </tr>\n",
              "  </tbody>\n",
              "</table>\n",
              "</div>\n",
              "      <button class=\"colab-df-convert\" onclick=\"convertToInteractive('df-b71c243f-9e34-4ce4-bace-7efd4cf7c815')\"\n",
              "              title=\"Convert this dataframe to an interactive table.\"\n",
              "              style=\"display:none;\">\n",
              "        \n",
              "  <svg xmlns=\"http://www.w3.org/2000/svg\" height=\"24px\"viewBox=\"0 0 24 24\"\n",
              "       width=\"24px\">\n",
              "    <path d=\"M0 0h24v24H0V0z\" fill=\"none\"/>\n",
              "    <path d=\"M18.56 5.44l.94 2.06.94-2.06 2.06-.94-2.06-.94-.94-2.06-.94 2.06-2.06.94zm-11 1L8.5 8.5l.94-2.06 2.06-.94-2.06-.94L8.5 2.5l-.94 2.06-2.06.94zm10 10l.94 2.06.94-2.06 2.06-.94-2.06-.94-.94-2.06-.94 2.06-2.06.94z\"/><path d=\"M17.41 7.96l-1.37-1.37c-.4-.4-.92-.59-1.43-.59-.52 0-1.04.2-1.43.59L10.3 9.45l-7.72 7.72c-.78.78-.78 2.05 0 2.83L4 21.41c.39.39.9.59 1.41.59.51 0 1.02-.2 1.41-.59l7.78-7.78 2.81-2.81c.8-.78.8-2.07 0-2.86zM5.41 20L4 18.59l7.72-7.72 1.47 1.35L5.41 20z\"/>\n",
              "  </svg>\n",
              "      </button>\n",
              "      \n",
              "  <style>\n",
              "    .colab-df-container {\n",
              "      display:flex;\n",
              "      flex-wrap:wrap;\n",
              "      gap: 12px;\n",
              "    }\n",
              "\n",
              "    .colab-df-convert {\n",
              "      background-color: #E8F0FE;\n",
              "      border: none;\n",
              "      border-radius: 50%;\n",
              "      cursor: pointer;\n",
              "      display: none;\n",
              "      fill: #1967D2;\n",
              "      height: 32px;\n",
              "      padding: 0 0 0 0;\n",
              "      width: 32px;\n",
              "    }\n",
              "\n",
              "    .colab-df-convert:hover {\n",
              "      background-color: #E2EBFA;\n",
              "      box-shadow: 0px 1px 2px rgba(60, 64, 67, 0.3), 0px 1px 3px 1px rgba(60, 64, 67, 0.15);\n",
              "      fill: #174EA6;\n",
              "    }\n",
              "\n",
              "    [theme=dark] .colab-df-convert {\n",
              "      background-color: #3B4455;\n",
              "      fill: #D2E3FC;\n",
              "    }\n",
              "\n",
              "    [theme=dark] .colab-df-convert:hover {\n",
              "      background-color: #434B5C;\n",
              "      box-shadow: 0px 1px 3px 1px rgba(0, 0, 0, 0.15);\n",
              "      filter: drop-shadow(0px 1px 2px rgba(0, 0, 0, 0.3));\n",
              "      fill: #FFFFFF;\n",
              "    }\n",
              "  </style>\n",
              "\n",
              "      <script>\n",
              "        const buttonEl =\n",
              "          document.querySelector('#df-b71c243f-9e34-4ce4-bace-7efd4cf7c815 button.colab-df-convert');\n",
              "        buttonEl.style.display =\n",
              "          google.colab.kernel.accessAllowed ? 'block' : 'none';\n",
              "\n",
              "        async function convertToInteractive(key) {\n",
              "          const element = document.querySelector('#df-b71c243f-9e34-4ce4-bace-7efd4cf7c815');\n",
              "          const dataTable =\n",
              "            await google.colab.kernel.invokeFunction('convertToInteractive',\n",
              "                                                     [key], {});\n",
              "          if (!dataTable) return;\n",
              "\n",
              "          const docLinkHtml = 'Like what you see? Visit the ' +\n",
              "            '<a target=\"_blank\" href=https://colab.research.google.com/notebooks/data_table.ipynb>data table notebook</a>'\n",
              "            + ' to learn more about interactive tables.';\n",
              "          element.innerHTML = '';\n",
              "          dataTable['output_type'] = 'display_data';\n",
              "          await google.colab.output.renderOutput(dataTable, element);\n",
              "          const docLink = document.createElement('div');\n",
              "          docLink.innerHTML = docLinkHtml;\n",
              "          element.appendChild(docLink);\n",
              "        }\n",
              "      </script>\n",
              "    </div>\n",
              "  </div>\n",
              "  "
            ]
          },
          "metadata": {},
          "execution_count": 15
        }
      ]
    },
    {
      "cell_type": "code",
      "source": [
        "df.shape"
      ],
      "metadata": {
        "colab": {
          "base_uri": "https://localhost:8080/"
        },
        "id": "WxWwsI81Uw4T",
        "outputId": "7e6a2f1b-9f7a-4492-e89b-915c90e831fc"
      },
      "execution_count": 16,
      "outputs": [
        {
          "output_type": "execute_result",
          "data": {
            "text/plain": [
              "(341, 6)"
            ]
          },
          "metadata": {},
          "execution_count": 16
        }
      ]
    },
    {
      "cell_type": "code",
      "source": [
        "df.describe()"
      ],
      "metadata": {
        "colab": {
          "base_uri": "https://localhost:8080/",
          "height": 300
        },
        "id": "uJSWhggcVYlu",
        "outputId": "93a526a7-23e8-4413-fda3-ee89ef0d90f0"
      },
      "execution_count": 17,
      "outputs": [
        {
          "output_type": "execute_result",
          "data": {
            "text/plain": [
              "              key\n",
              "count  341.000000\n",
              "mean     6.920821\n",
              "std      4.289132\n",
              "min      0.000000\n",
              "25%      3.000000\n",
              "50%      7.000000\n",
              "75%     11.000000\n",
              "max     14.000000"
            ],
            "text/html": [
              "\n",
              "  <div id=\"df-220fa78d-cd94-40dd-96e7-4385c830d593\">\n",
              "    <div class=\"colab-df-container\">\n",
              "      <div>\n",
              "<style scoped>\n",
              "    .dataframe tbody tr th:only-of-type {\n",
              "        vertical-align: middle;\n",
              "    }\n",
              "\n",
              "    .dataframe tbody tr th {\n",
              "        vertical-align: top;\n",
              "    }\n",
              "\n",
              "    .dataframe thead th {\n",
              "        text-align: right;\n",
              "    }\n",
              "</style>\n",
              "<table border=\"1\" class=\"dataframe\">\n",
              "  <thead>\n",
              "    <tr style=\"text-align: right;\">\n",
              "      <th></th>\n",
              "      <th>key</th>\n",
              "    </tr>\n",
              "  </thead>\n",
              "  <tbody>\n",
              "    <tr>\n",
              "      <th>count</th>\n",
              "      <td>341.000000</td>\n",
              "    </tr>\n",
              "    <tr>\n",
              "      <th>mean</th>\n",
              "      <td>6.920821</td>\n",
              "    </tr>\n",
              "    <tr>\n",
              "      <th>std</th>\n",
              "      <td>4.289132</td>\n",
              "    </tr>\n",
              "    <tr>\n",
              "      <th>min</th>\n",
              "      <td>0.000000</td>\n",
              "    </tr>\n",
              "    <tr>\n",
              "      <th>25%</th>\n",
              "      <td>3.000000</td>\n",
              "    </tr>\n",
              "    <tr>\n",
              "      <th>50%</th>\n",
              "      <td>7.000000</td>\n",
              "    </tr>\n",
              "    <tr>\n",
              "      <th>75%</th>\n",
              "      <td>11.000000</td>\n",
              "    </tr>\n",
              "    <tr>\n",
              "      <th>max</th>\n",
              "      <td>14.000000</td>\n",
              "    </tr>\n",
              "  </tbody>\n",
              "</table>\n",
              "</div>\n",
              "      <button class=\"colab-df-convert\" onclick=\"convertToInteractive('df-220fa78d-cd94-40dd-96e7-4385c830d593')\"\n",
              "              title=\"Convert this dataframe to an interactive table.\"\n",
              "              style=\"display:none;\">\n",
              "        \n",
              "  <svg xmlns=\"http://www.w3.org/2000/svg\" height=\"24px\"viewBox=\"0 0 24 24\"\n",
              "       width=\"24px\">\n",
              "    <path d=\"M0 0h24v24H0V0z\" fill=\"none\"/>\n",
              "    <path d=\"M18.56 5.44l.94 2.06.94-2.06 2.06-.94-2.06-.94-.94-2.06-.94 2.06-2.06.94zm-11 1L8.5 8.5l.94-2.06 2.06-.94-2.06-.94L8.5 2.5l-.94 2.06-2.06.94zm10 10l.94 2.06.94-2.06 2.06-.94-2.06-.94-.94-2.06-.94 2.06-2.06.94z\"/><path d=\"M17.41 7.96l-1.37-1.37c-.4-.4-.92-.59-1.43-.59-.52 0-1.04.2-1.43.59L10.3 9.45l-7.72 7.72c-.78.78-.78 2.05 0 2.83L4 21.41c.39.39.9.59 1.41.59.51 0 1.02-.2 1.41-.59l7.78-7.78 2.81-2.81c.8-.78.8-2.07 0-2.86zM5.41 20L4 18.59l7.72-7.72 1.47 1.35L5.41 20z\"/>\n",
              "  </svg>\n",
              "      </button>\n",
              "      \n",
              "  <style>\n",
              "    .colab-df-container {\n",
              "      display:flex;\n",
              "      flex-wrap:wrap;\n",
              "      gap: 12px;\n",
              "    }\n",
              "\n",
              "    .colab-df-convert {\n",
              "      background-color: #E8F0FE;\n",
              "      border: none;\n",
              "      border-radius: 50%;\n",
              "      cursor: pointer;\n",
              "      display: none;\n",
              "      fill: #1967D2;\n",
              "      height: 32px;\n",
              "      padding: 0 0 0 0;\n",
              "      width: 32px;\n",
              "    }\n",
              "\n",
              "    .colab-df-convert:hover {\n",
              "      background-color: #E2EBFA;\n",
              "      box-shadow: 0px 1px 2px rgba(60, 64, 67, 0.3), 0px 1px 3px 1px rgba(60, 64, 67, 0.15);\n",
              "      fill: #174EA6;\n",
              "    }\n",
              "\n",
              "    [theme=dark] .colab-df-convert {\n",
              "      background-color: #3B4455;\n",
              "      fill: #D2E3FC;\n",
              "    }\n",
              "\n",
              "    [theme=dark] .colab-df-convert:hover {\n",
              "      background-color: #434B5C;\n",
              "      box-shadow: 0px 1px 3px 1px rgba(0, 0, 0, 0.15);\n",
              "      filter: drop-shadow(0px 1px 2px rgba(0, 0, 0, 0.3));\n",
              "      fill: #FFFFFF;\n",
              "    }\n",
              "  </style>\n",
              "\n",
              "      <script>\n",
              "        const buttonEl =\n",
              "          document.querySelector('#df-220fa78d-cd94-40dd-96e7-4385c830d593 button.colab-df-convert');\n",
              "        buttonEl.style.display =\n",
              "          google.colab.kernel.accessAllowed ? 'block' : 'none';\n",
              "\n",
              "        async function convertToInteractive(key) {\n",
              "          const element = document.querySelector('#df-220fa78d-cd94-40dd-96e7-4385c830d593');\n",
              "          const dataTable =\n",
              "            await google.colab.kernel.invokeFunction('convertToInteractive',\n",
              "                                                     [key], {});\n",
              "          if (!dataTable) return;\n",
              "\n",
              "          const docLinkHtml = 'Like what you see? Visit the ' +\n",
              "            '<a target=\"_blank\" href=https://colab.research.google.com/notebooks/data_table.ipynb>data table notebook</a>'\n",
              "            + ' to learn more about interactive tables.';\n",
              "          element.innerHTML = '';\n",
              "          dataTable['output_type'] = 'display_data';\n",
              "          await google.colab.output.renderOutput(dataTable, element);\n",
              "          const docLink = document.createElement('div');\n",
              "          docLink.innerHTML = docLinkHtml;\n",
              "          element.appendChild(docLink);\n",
              "        }\n",
              "      </script>\n",
              "    </div>\n",
              "  </div>\n",
              "  "
            ]
          },
          "metadata": {},
          "execution_count": 17
        }
      ]
    },
    {
      "cell_type": "code",
      "source": [
        "df['nombre_good'].value_counts()"
      ],
      "metadata": {
        "colab": {
          "base_uri": "https://localhost:8080/"
        },
        "id": "NRAPyTV8YZqE",
        "outputId": "d58e56ed-c1a2-496a-95f5-1b2c3ef5b093"
      },
      "execution_count": 18,
      "outputs": [
        {
          "output_type": "execute_result",
          "data": {
            "text/plain": [
              "0\\n\\n\\n0      121\n",
              "1\\n\\n\\n0       44\n",
              "0\\n\\n\\n1       27\n",
              "2\\n\\n\\n0       24\n",
              "1\\n\\n\\n2       12\n",
              "             ... \n",
              "8\\n\\n\\n11       1\n",
              "9\\n\\n\\n12       1\n",
              "5\\n\\n\\n3        1\n",
              "24\\n\\n\\n12      1\n",
              "0\\n\\n \\n0       1\n",
              "Name: nombre_good, Length: 68, dtype: int64"
            ]
          },
          "metadata": {},
          "execution_count": 18
        }
      ]
    },
    {
      "cell_type": "code",
      "source": [
        "df.tail()"
      ],
      "metadata": {
        "colab": {
          "base_uri": "https://localhost:8080/",
          "height": 206
        },
        "outputId": "fa0962c5-bca7-456a-ad9f-e986d5124afd",
        "id": "89bpQOTdYnM-"
      },
      "execution_count": 19,
      "outputs": [
        {
          "output_type": "execute_result",
          "data": {
            "text/plain": [
              "    Note                                        Description  \\\n",
              "336  5,0  Vraiment une des meilleures séries que j'ai vu...   \n",
              "337  4,5  Une série qui fait réfléchir.La série met en s...   \n",
              "338  4,0  très bonne série nous tiens en haleine du débu...   \n",
              "339  3,5  Bonne série,je trouve que c'est une version so...   \n",
              "340  4,5  Squid Game, encore une série Coréenne exceptio...   \n",
              "\n",
              "                           Date nombre_good        nombre_follow  key  \n",
              "336  Publiée le 24 octobre 2021    0\\n\\n\\n1  Suivre son activité   10  \n",
              "337  Publiée le 26 octobre 2021    0\\n\\n\\n0  Suivre son activité   11  \n",
              "338  Publiée le 26 octobre 2021    0\\n\\n\\n0  Suivre son activité   12  \n",
              "339  Publiée le 21 octobre 2021    0\\n\\n\\n0  Suivre son activité   13  \n",
              "340  Publiée le 26 octobre 2021    0\\n\\n\\n0  Suivre son activité   14  "
            ],
            "text/html": [
              "\n",
              "  <div id=\"df-fb08b581-2897-4c22-a2c0-e5aa423e8c2a\">\n",
              "    <div class=\"colab-df-container\">\n",
              "      <div>\n",
              "<style scoped>\n",
              "    .dataframe tbody tr th:only-of-type {\n",
              "        vertical-align: middle;\n",
              "    }\n",
              "\n",
              "    .dataframe tbody tr th {\n",
              "        vertical-align: top;\n",
              "    }\n",
              "\n",
              "    .dataframe thead th {\n",
              "        text-align: right;\n",
              "    }\n",
              "</style>\n",
              "<table border=\"1\" class=\"dataframe\">\n",
              "  <thead>\n",
              "    <tr style=\"text-align: right;\">\n",
              "      <th></th>\n",
              "      <th>Note</th>\n",
              "      <th>Description</th>\n",
              "      <th>Date</th>\n",
              "      <th>nombre_good</th>\n",
              "      <th>nombre_follow</th>\n",
              "      <th>key</th>\n",
              "    </tr>\n",
              "  </thead>\n",
              "  <tbody>\n",
              "    <tr>\n",
              "      <th>336</th>\n",
              "      <td>5,0</td>\n",
              "      <td>Vraiment une des meilleures séries que j'ai vu...</td>\n",
              "      <td>Publiée le 24 octobre 2021</td>\n",
              "      <td>0\\n\\n\\n1</td>\n",
              "      <td>Suivre son activité</td>\n",
              "      <td>10</td>\n",
              "    </tr>\n",
              "    <tr>\n",
              "      <th>337</th>\n",
              "      <td>4,5</td>\n",
              "      <td>Une série qui fait réfléchir.La série met en s...</td>\n",
              "      <td>Publiée le 26 octobre 2021</td>\n",
              "      <td>0\\n\\n\\n0</td>\n",
              "      <td>Suivre son activité</td>\n",
              "      <td>11</td>\n",
              "    </tr>\n",
              "    <tr>\n",
              "      <th>338</th>\n",
              "      <td>4,0</td>\n",
              "      <td>très bonne série nous tiens en haleine du débu...</td>\n",
              "      <td>Publiée le 26 octobre 2021</td>\n",
              "      <td>0\\n\\n\\n0</td>\n",
              "      <td>Suivre son activité</td>\n",
              "      <td>12</td>\n",
              "    </tr>\n",
              "    <tr>\n",
              "      <th>339</th>\n",
              "      <td>3,5</td>\n",
              "      <td>Bonne série,je trouve que c'est une version so...</td>\n",
              "      <td>Publiée le 21 octobre 2021</td>\n",
              "      <td>0\\n\\n\\n0</td>\n",
              "      <td>Suivre son activité</td>\n",
              "      <td>13</td>\n",
              "    </tr>\n",
              "    <tr>\n",
              "      <th>340</th>\n",
              "      <td>4,5</td>\n",
              "      <td>Squid Game, encore une série Coréenne exceptio...</td>\n",
              "      <td>Publiée le 26 octobre 2021</td>\n",
              "      <td>0\\n\\n\\n0</td>\n",
              "      <td>Suivre son activité</td>\n",
              "      <td>14</td>\n",
              "    </tr>\n",
              "  </tbody>\n",
              "</table>\n",
              "</div>\n",
              "      <button class=\"colab-df-convert\" onclick=\"convertToInteractive('df-fb08b581-2897-4c22-a2c0-e5aa423e8c2a')\"\n",
              "              title=\"Convert this dataframe to an interactive table.\"\n",
              "              style=\"display:none;\">\n",
              "        \n",
              "  <svg xmlns=\"http://www.w3.org/2000/svg\" height=\"24px\"viewBox=\"0 0 24 24\"\n",
              "       width=\"24px\">\n",
              "    <path d=\"M0 0h24v24H0V0z\" fill=\"none\"/>\n",
              "    <path d=\"M18.56 5.44l.94 2.06.94-2.06 2.06-.94-2.06-.94-.94-2.06-.94 2.06-2.06.94zm-11 1L8.5 8.5l.94-2.06 2.06-.94-2.06-.94L8.5 2.5l-.94 2.06-2.06.94zm10 10l.94 2.06.94-2.06 2.06-.94-2.06-.94-.94-2.06-.94 2.06-2.06.94z\"/><path d=\"M17.41 7.96l-1.37-1.37c-.4-.4-.92-.59-1.43-.59-.52 0-1.04.2-1.43.59L10.3 9.45l-7.72 7.72c-.78.78-.78 2.05 0 2.83L4 21.41c.39.39.9.59 1.41.59.51 0 1.02-.2 1.41-.59l7.78-7.78 2.81-2.81c.8-.78.8-2.07 0-2.86zM5.41 20L4 18.59l7.72-7.72 1.47 1.35L5.41 20z\"/>\n",
              "  </svg>\n",
              "      </button>\n",
              "      \n",
              "  <style>\n",
              "    .colab-df-container {\n",
              "      display:flex;\n",
              "      flex-wrap:wrap;\n",
              "      gap: 12px;\n",
              "    }\n",
              "\n",
              "    .colab-df-convert {\n",
              "      background-color: #E8F0FE;\n",
              "      border: none;\n",
              "      border-radius: 50%;\n",
              "      cursor: pointer;\n",
              "      display: none;\n",
              "      fill: #1967D2;\n",
              "      height: 32px;\n",
              "      padding: 0 0 0 0;\n",
              "      width: 32px;\n",
              "    }\n",
              "\n",
              "    .colab-df-convert:hover {\n",
              "      background-color: #E2EBFA;\n",
              "      box-shadow: 0px 1px 2px rgba(60, 64, 67, 0.3), 0px 1px 3px 1px rgba(60, 64, 67, 0.15);\n",
              "      fill: #174EA6;\n",
              "    }\n",
              "\n",
              "    [theme=dark] .colab-df-convert {\n",
              "      background-color: #3B4455;\n",
              "      fill: #D2E3FC;\n",
              "    }\n",
              "\n",
              "    [theme=dark] .colab-df-convert:hover {\n",
              "      background-color: #434B5C;\n",
              "      box-shadow: 0px 1px 3px 1px rgba(0, 0, 0, 0.15);\n",
              "      filter: drop-shadow(0px 1px 2px rgba(0, 0, 0, 0.3));\n",
              "      fill: #FFFFFF;\n",
              "    }\n",
              "  </style>\n",
              "\n",
              "      <script>\n",
              "        const buttonEl =\n",
              "          document.querySelector('#df-fb08b581-2897-4c22-a2c0-e5aa423e8c2a button.colab-df-convert');\n",
              "        buttonEl.style.display =\n",
              "          google.colab.kernel.accessAllowed ? 'block' : 'none';\n",
              "\n",
              "        async function convertToInteractive(key) {\n",
              "          const element = document.querySelector('#df-fb08b581-2897-4c22-a2c0-e5aa423e8c2a');\n",
              "          const dataTable =\n",
              "            await google.colab.kernel.invokeFunction('convertToInteractive',\n",
              "                                                     [key], {});\n",
              "          if (!dataTable) return;\n",
              "\n",
              "          const docLinkHtml = 'Like what you see? Visit the ' +\n",
              "            '<a target=\"_blank\" href=https://colab.research.google.com/notebooks/data_table.ipynb>data table notebook</a>'\n",
              "            + ' to learn more about interactive tables.';\n",
              "          element.innerHTML = '';\n",
              "          dataTable['output_type'] = 'display_data';\n",
              "          await google.colab.output.renderOutput(dataTable, element);\n",
              "          const docLink = document.createElement('div');\n",
              "          docLink.innerHTML = docLinkHtml;\n",
              "          element.appendChild(docLink);\n",
              "        }\n",
              "      </script>\n",
              "    </div>\n",
              "  </div>\n",
              "  "
            ]
          },
          "metadata": {},
          "execution_count": 19
        }
      ]
    },
    {
      "cell_type": "code",
      "source": [
        "# On clean la date avec un regex pour sortir le \"Publiée le\" et garder seulement la date dans une nouvelle colonne 'Date_clean'\n",
        "df['Date_clean'] = df['Date'].str.extract('Publiée le (\\d.* .* \\d.*)')"
      ],
      "metadata": {
        "id": "SRxevwnPaqq2"
      },
      "execution_count": 20,
      "outputs": []
    },
    {
      "cell_type": "code",
      "source": [
        "df['Date_clean']"
      ],
      "metadata": {
        "colab": {
          "base_uri": "https://localhost:8080/"
        },
        "id": "O0WuD5THQ4i_",
        "outputId": "04e186bf-d909-4428-c306-c48a6e4232c1"
      },
      "execution_count": 21,
      "outputs": [
        {
          "output_type": "execute_result",
          "data": {
            "text/plain": [
              "0         2 octobre 2021\n",
              "1         1 octobre 2021\n",
              "2      22 septembre 2021\n",
              "3         5 octobre 2021\n",
              "4      25 septembre 2021\n",
              "             ...        \n",
              "336      24 octobre 2021\n",
              "337      26 octobre 2021\n",
              "338      26 octobre 2021\n",
              "339      21 octobre 2021\n",
              "340      26 octobre 2021\n",
              "Name: Date_clean, Length: 341, dtype: object"
            ]
          },
          "metadata": {},
          "execution_count": 21
        }
      ]
    },
    {
      "cell_type": "code",
      "source": [
        "df.head()"
      ],
      "metadata": {
        "colab": {
          "base_uri": "https://localhost:8080/",
          "height": 206
        },
        "id": "ZXWSWhL1zSUb",
        "outputId": "0b17bca9-e9ee-4a35-a49a-824456dd38a1"
      },
      "execution_count": 22,
      "outputs": [
        {
          "output_type": "execute_result",
          "data": {
            "text/plain": [
              "  Note                                        Description  \\\n",
              "0  3,0  On s'attendait à une fin plus élaborée, claire...   \n",
              "1  2,5  Encore une série très sur-côtée ! Tout est pré...   \n",
              "2  4,5  Pas fan des séries coréennes en général. Je do...   \n",
              "3  4,5  Disons le tout de suite, je suis fan depuis 30...   \n",
              "4  4,0  Visuellement recherché, très ludique, rythmé e...   \n",
              "\n",
              "                           Date nombre_good        nombre_follow  key  \\\n",
              "0     Publiée le 2 octobre 2021  22\\n\\n\\n10  Suivre son activité    0   \n",
              "1     Publiée le 1 octobre 2021  24\\n\\n\\n12  Suivre son activité    1   \n",
              "2  Publiée le 22 septembre 2021  20\\n\\n\\n21  Suivre son activité    2   \n",
              "3     Publiée le 5 octobre 2021   9\\n\\n\\n10  Suivre son activité    3   \n",
              "4  Publiée le 25 septembre 2021  7\\n\\n\\n\\n9  Suivre son activité    4   \n",
              "\n",
              "          Date_clean  \n",
              "0     2 octobre 2021  \n",
              "1     1 octobre 2021  \n",
              "2  22 septembre 2021  \n",
              "3     5 octobre 2021  \n",
              "4  25 septembre 2021  "
            ],
            "text/html": [
              "\n",
              "  <div id=\"df-1422bd0f-1d97-4900-8553-69a14c5bdd7f\">\n",
              "    <div class=\"colab-df-container\">\n",
              "      <div>\n",
              "<style scoped>\n",
              "    .dataframe tbody tr th:only-of-type {\n",
              "        vertical-align: middle;\n",
              "    }\n",
              "\n",
              "    .dataframe tbody tr th {\n",
              "        vertical-align: top;\n",
              "    }\n",
              "\n",
              "    .dataframe thead th {\n",
              "        text-align: right;\n",
              "    }\n",
              "</style>\n",
              "<table border=\"1\" class=\"dataframe\">\n",
              "  <thead>\n",
              "    <tr style=\"text-align: right;\">\n",
              "      <th></th>\n",
              "      <th>Note</th>\n",
              "      <th>Description</th>\n",
              "      <th>Date</th>\n",
              "      <th>nombre_good</th>\n",
              "      <th>nombre_follow</th>\n",
              "      <th>key</th>\n",
              "      <th>Date_clean</th>\n",
              "    </tr>\n",
              "  </thead>\n",
              "  <tbody>\n",
              "    <tr>\n",
              "      <th>0</th>\n",
              "      <td>3,0</td>\n",
              "      <td>On s'attendait à une fin plus élaborée, claire...</td>\n",
              "      <td>Publiée le 2 octobre 2021</td>\n",
              "      <td>22\\n\\n\\n10</td>\n",
              "      <td>Suivre son activité</td>\n",
              "      <td>0</td>\n",
              "      <td>2 octobre 2021</td>\n",
              "    </tr>\n",
              "    <tr>\n",
              "      <th>1</th>\n",
              "      <td>2,5</td>\n",
              "      <td>Encore une série très sur-côtée ! Tout est pré...</td>\n",
              "      <td>Publiée le 1 octobre 2021</td>\n",
              "      <td>24\\n\\n\\n12</td>\n",
              "      <td>Suivre son activité</td>\n",
              "      <td>1</td>\n",
              "      <td>1 octobre 2021</td>\n",
              "    </tr>\n",
              "    <tr>\n",
              "      <th>2</th>\n",
              "      <td>4,5</td>\n",
              "      <td>Pas fan des séries coréennes en général. Je do...</td>\n",
              "      <td>Publiée le 22 septembre 2021</td>\n",
              "      <td>20\\n\\n\\n21</td>\n",
              "      <td>Suivre son activité</td>\n",
              "      <td>2</td>\n",
              "      <td>22 septembre 2021</td>\n",
              "    </tr>\n",
              "    <tr>\n",
              "      <th>3</th>\n",
              "      <td>4,5</td>\n",
              "      <td>Disons le tout de suite, je suis fan depuis 30...</td>\n",
              "      <td>Publiée le 5 octobre 2021</td>\n",
              "      <td>9\\n\\n\\n10</td>\n",
              "      <td>Suivre son activité</td>\n",
              "      <td>3</td>\n",
              "      <td>5 octobre 2021</td>\n",
              "    </tr>\n",
              "    <tr>\n",
              "      <th>4</th>\n",
              "      <td>4,0</td>\n",
              "      <td>Visuellement recherché, très ludique, rythmé e...</td>\n",
              "      <td>Publiée le 25 septembre 2021</td>\n",
              "      <td>7\\n\\n\\n\\n9</td>\n",
              "      <td>Suivre son activité</td>\n",
              "      <td>4</td>\n",
              "      <td>25 septembre 2021</td>\n",
              "    </tr>\n",
              "  </tbody>\n",
              "</table>\n",
              "</div>\n",
              "      <button class=\"colab-df-convert\" onclick=\"convertToInteractive('df-1422bd0f-1d97-4900-8553-69a14c5bdd7f')\"\n",
              "              title=\"Convert this dataframe to an interactive table.\"\n",
              "              style=\"display:none;\">\n",
              "        \n",
              "  <svg xmlns=\"http://www.w3.org/2000/svg\" height=\"24px\"viewBox=\"0 0 24 24\"\n",
              "       width=\"24px\">\n",
              "    <path d=\"M0 0h24v24H0V0z\" fill=\"none\"/>\n",
              "    <path d=\"M18.56 5.44l.94 2.06.94-2.06 2.06-.94-2.06-.94-.94-2.06-.94 2.06-2.06.94zm-11 1L8.5 8.5l.94-2.06 2.06-.94-2.06-.94L8.5 2.5l-.94 2.06-2.06.94zm10 10l.94 2.06.94-2.06 2.06-.94-2.06-.94-.94-2.06-.94 2.06-2.06.94z\"/><path d=\"M17.41 7.96l-1.37-1.37c-.4-.4-.92-.59-1.43-.59-.52 0-1.04.2-1.43.59L10.3 9.45l-7.72 7.72c-.78.78-.78 2.05 0 2.83L4 21.41c.39.39.9.59 1.41.59.51 0 1.02-.2 1.41-.59l7.78-7.78 2.81-2.81c.8-.78.8-2.07 0-2.86zM5.41 20L4 18.59l7.72-7.72 1.47 1.35L5.41 20z\"/>\n",
              "  </svg>\n",
              "      </button>\n",
              "      \n",
              "  <style>\n",
              "    .colab-df-container {\n",
              "      display:flex;\n",
              "      flex-wrap:wrap;\n",
              "      gap: 12px;\n",
              "    }\n",
              "\n",
              "    .colab-df-convert {\n",
              "      background-color: #E8F0FE;\n",
              "      border: none;\n",
              "      border-radius: 50%;\n",
              "      cursor: pointer;\n",
              "      display: none;\n",
              "      fill: #1967D2;\n",
              "      height: 32px;\n",
              "      padding: 0 0 0 0;\n",
              "      width: 32px;\n",
              "    }\n",
              "\n",
              "    .colab-df-convert:hover {\n",
              "      background-color: #E2EBFA;\n",
              "      box-shadow: 0px 1px 2px rgba(60, 64, 67, 0.3), 0px 1px 3px 1px rgba(60, 64, 67, 0.15);\n",
              "      fill: #174EA6;\n",
              "    }\n",
              "\n",
              "    [theme=dark] .colab-df-convert {\n",
              "      background-color: #3B4455;\n",
              "      fill: #D2E3FC;\n",
              "    }\n",
              "\n",
              "    [theme=dark] .colab-df-convert:hover {\n",
              "      background-color: #434B5C;\n",
              "      box-shadow: 0px 1px 3px 1px rgba(0, 0, 0, 0.15);\n",
              "      filter: drop-shadow(0px 1px 2px rgba(0, 0, 0, 0.3));\n",
              "      fill: #FFFFFF;\n",
              "    }\n",
              "  </style>\n",
              "\n",
              "      <script>\n",
              "        const buttonEl =\n",
              "          document.querySelector('#df-1422bd0f-1d97-4900-8553-69a14c5bdd7f button.colab-df-convert');\n",
              "        buttonEl.style.display =\n",
              "          google.colab.kernel.accessAllowed ? 'block' : 'none';\n",
              "\n",
              "        async function convertToInteractive(key) {\n",
              "          const element = document.querySelector('#df-1422bd0f-1d97-4900-8553-69a14c5bdd7f');\n",
              "          const dataTable =\n",
              "            await google.colab.kernel.invokeFunction('convertToInteractive',\n",
              "                                                     [key], {});\n",
              "          if (!dataTable) return;\n",
              "\n",
              "          const docLinkHtml = 'Like what you see? Visit the ' +\n",
              "            '<a target=\"_blank\" href=https://colab.research.google.com/notebooks/data_table.ipynb>data table notebook</a>'\n",
              "            + ' to learn more about interactive tables.';\n",
              "          element.innerHTML = '';\n",
              "          dataTable['output_type'] = 'display_data';\n",
              "          await google.colab.output.renderOutput(dataTable, element);\n",
              "          const docLink = document.createElement('div');\n",
              "          docLink.innerHTML = docLinkHtml;\n",
              "          element.appendChild(docLink);\n",
              "        }\n",
              "      </script>\n",
              "    </div>\n",
              "  </div>\n",
              "  "
            ]
          },
          "metadata": {},
          "execution_count": 22
        }
      ]
    },
    {
      "cell_type": "markdown",
      "source": [
        ""
      ],
      "metadata": {
        "id": "03ZRfdE707Dz"
      }
    },
    {
      "cell_type": "code",
      "source": [
        "type(df['Date_clean'])"
      ],
      "metadata": {
        "colab": {
          "base_uri": "https://localhost:8080/"
        },
        "id": "YOUnCm-V2Hig",
        "outputId": "3d1a92dd-b979-49ad-8103-977bb331e0d5"
      },
      "execution_count": 23,
      "outputs": [
        {
          "output_type": "execute_result",
          "data": {
            "text/plain": [
              "pandas.core.series.Series"
            ]
          },
          "metadata": {},
          "execution_count": 23
        }
      ]
    },
    {
      "cell_type": "code",
      "source": [
        "# On utilise le parser pour renvoyer un datetime dans une nouvelle colonne 'datetime'\n",
        "df['datetime'] = df.apply(lambda row :dateparser.parse(row['Date_clean']) , axis = 1)"
      ],
      "metadata": {
        "id": "g7KP66d5askt"
      },
      "execution_count": 24,
      "outputs": []
    },
    {
      "cell_type": "code",
      "source": [
        "# On drop les colonnes dates inutiles\n",
        "df.drop('Date',inplace=True,axis=1)\n",
        "df.drop('Date_clean',inplace=True,axis=1)"
      ],
      "metadata": {
        "id": "htjyk_W6TI5T"
      },
      "execution_count": 25,
      "outputs": []
    },
    {
      "cell_type": "code",
      "source": [
        "df['good'] = df.nombre_good.apply(lambda x: re.split(\"\\s+\", x)[0])"
      ],
      "metadata": {
        "id": "egjAR-DpctQr"
      },
      "execution_count": 26,
      "outputs": []
    },
    {
      "cell_type": "code",
      "source": [
        "df['good']"
      ],
      "metadata": {
        "colab": {
          "base_uri": "https://localhost:8080/"
        },
        "id": "aRZQgY8L1Oko",
        "outputId": "92106ac9-a207-4e5a-bc07-706b56042d00"
      },
      "execution_count": 27,
      "outputs": [
        {
          "output_type": "execute_result",
          "data": {
            "text/plain": [
              "0      22\n",
              "1      24\n",
              "2      20\n",
              "3       9\n",
              "4       7\n",
              "       ..\n",
              "336     0\n",
              "337     0\n",
              "338     0\n",
              "339     0\n",
              "340     0\n",
              "Name: good, Length: 341, dtype: object"
            ]
          },
          "metadata": {},
          "execution_count": 27
        }
      ]
    },
    {
      "cell_type": "code",
      "source": [
        "df['bad'] = df.nombre_good.apply(lambda x: re.split(\"\\s+\", x)[1])"
      ],
      "metadata": {
        "id": "wH3O_fzScvCJ"
      },
      "execution_count": 28,
      "outputs": []
    },
    {
      "cell_type": "code",
      "source": [
        "df.drop('nombre_good', axis=1, inplace=True)"
      ],
      "metadata": {
        "id": "VzesGlaRcyDu"
      },
      "execution_count": 29,
      "outputs": []
    },
    {
      "cell_type": "code",
      "source": [
        "df.drop(\"nombre_follow\", axis=1, inplace=True)"
      ],
      "metadata": {
        "id": "yTsJlFdKczS3"
      },
      "execution_count": 30,
      "outputs": []
    },
    {
      "cell_type": "code",
      "source": [
        "df['Note'] = df['Note'].apply(lambda x: x.replace(',', '.')) #on remplace , par ."
      ],
      "metadata": {
        "id": "qzs3bMWG28jI"
      },
      "execution_count": 31,
      "outputs": []
    },
    {
      "cell_type": "code",
      "source": [
        "df['Note'] = df['Note'].astype('float64') #convertir la colonne note en float"
      ],
      "metadata": {
        "id": "3Au_BoBF3GZY"
      },
      "execution_count": 32,
      "outputs": []
    },
    {
      "cell_type": "markdown",
      "source": [
        "##Nombre de mots, tokenisation, lemmatisation"
      ],
      "metadata": {
        "id": "GmlrsI95DsJ4"
      }
    },
    {
      "cell_type": "code",
      "source": [
        "df['Description']"
      ],
      "metadata": {
        "colab": {
          "base_uri": "https://localhost:8080/"
        },
        "id": "mezgQArTEFvK",
        "outputId": "7b9c69d9-2da7-4a72-d13c-b27fbf1dbd4d"
      },
      "execution_count": 33,
      "outputs": [
        {
          "output_type": "execute_result",
          "data": {
            "text/plain": [
              "0      On s'attendait à une fin plus élaborée, claire...\n",
              "1      Encore une série très sur-côtée ! Tout est pré...\n",
              "2      Pas fan des séries coréennes en général. Je do...\n",
              "3      Disons le tout de suite, je suis fan depuis 30...\n",
              "4      Visuellement recherché, très ludique, rythmé e...\n",
              "                             ...                        \n",
              "336    Vraiment une des meilleures séries que j'ai vu...\n",
              "337    Une série qui fait réfléchir.La série met en s...\n",
              "338    très bonne série nous tiens en haleine du débu...\n",
              "339    Bonne série,je trouve que c'est une version so...\n",
              "340    Squid Game, encore une série Coréenne exceptio...\n",
              "Name: Description, Length: 341, dtype: object"
            ]
          },
          "metadata": {},
          "execution_count": 33
        }
      ]
    },
    {
      "cell_type": "code",
      "source": [
        "df['nb_mot'] = df['Description'].apply(lambda x: len(x.split())) # Calcul d'une variable contenant le nombre de mots de chaque commentaire\n",
        "df['nb_phrase'] =df['Description'].apply(lambda x: len(x.split('. ')))\n",
        "df['nb_caractere'] = df['Description'].apply(lambda x: len(x) - len(x.split())- len(x.split('.')))\n",
        "\n",
        "df['description_clean'] = df['Description'].copy()\n",
        "df['description_clean'] = df['description_clean'].map(lambda x : re.sub('[,\\.!?()\"]', '', x)) \n",
        "df['description_clean'] = df['description_clean'].map(lambda x : re.sub('\\d', '', x))  #supprimer les nombres de [0-9]"
      ],
      "metadata": {
        "id": "UT8i2I1QGQ2Y"
      },
      "execution_count": 34,
      "outputs": []
    },
    {
      "cell_type": "markdown",
      "source": [
        "Méthode 1: TOKENISATION"
      ],
      "metadata": {
        "id": "58R45MeyGwlx"
      }
    },
    {
      "cell_type": "code",
      "source": [
        "df['tokens'] = df['description_clean'].apply(lambda x: word_tokenize(x))"
      ],
      "metadata": {
        "id": "Vnp8h18BGheh"
      },
      "execution_count": 35,
      "outputs": []
    },
    {
      "cell_type": "code",
      "source": [
        "df['tokens']"
      ],
      "metadata": {
        "colab": {
          "base_uri": "https://localhost:8080/"
        },
        "id": "-AGVTEA7GobH",
        "outputId": "425d7e92-b073-41d3-e26c-3ff231ec22ee"
      },
      "execution_count": 36,
      "outputs": [
        {
          "output_type": "execute_result",
          "data": {
            "text/plain": [
              "0      [On, s'attendait, à, une, fin, plus, élaborée,...\n",
              "1      [Encore, une, série, très, sur-côtée, Tout, es...\n",
              "2      [Pas, fan, des, séries, coréennes, en, général...\n",
              "3      [Disons, le, tout, de, suite, je, suis, fan, d...\n",
              "4      [Visuellement, recherché, très, ludique, rythm...\n",
              "                             ...                        \n",
              "336    [Vraiment, une, des, meilleures, séries, que, ...\n",
              "337    [Une, série, qui, fait, réfléchirLa, série, me...\n",
              "338    [très, bonne, série, nous, tiens, en, haleine,...\n",
              "339    [Bonne, sérieje, trouve, que, c'est, une, vers...\n",
              "340    [Squid, Game, encore, une, série, Coréenne, ex...\n",
              "Name: tokens, Length: 341, dtype: object"
            ]
          },
          "metadata": {},
          "execution_count": 36
        }
      ]
    },
    {
      "cell_type": "markdown",
      "source": [
        "Méthode 2: TOKENISATION"
      ],
      "metadata": {
        "id": "SOU-eS1ZG8LP"
      }
    },
    {
      "cell_type": "code",
      "source": [
        "nltk.download('punkt') # nécessaire pour la tokenisation #la tokenisation: mettre les phrases dans une liste de mots"
      ],
      "metadata": {
        "colab": {
          "base_uri": "https://localhost:8080/"
        },
        "id": "HFcNlC3iEWrn",
        "outputId": "9c6d78c5-63d6-467e-ed6b-eb08c147e3f6"
      },
      "execution_count": 37,
      "outputs": [
        {
          "output_type": "stream",
          "name": "stdout",
          "text": [
            "[nltk_data] Downloading package punkt to /root/nltk_data...\n",
            "[nltk_data]   Package punkt is already up-to-date!\n"
          ]
        },
        {
          "output_type": "execute_result",
          "data": {
            "text/plain": [
              "True"
            ]
          },
          "metadata": {},
          "execution_count": 37
        }
      ]
    },
    {
      "cell_type": "code",
      "source": [
        "def tokenisation(commentaire):\n",
        "  comm_tokenized = nltk.word_tokenize(commentaire)\n",
        "  return(comm_tokenized)"
      ],
      "metadata": {
        "id": "OYLY0oW3E4fW"
      },
      "execution_count": 38,
      "outputs": []
    },
    {
      "cell_type": "code",
      "source": [
        "df['Tokens_2'] = df[\"Description\"].apply(lambda comm : tokenisation(comm))"
      ],
      "metadata": {
        "id": "pD3W1bLRE_Ef"
      },
      "execution_count": 39,
      "outputs": []
    },
    {
      "cell_type": "code",
      "source": [
        "df[[\"Description\", \"Tokens_2\"]].head() #resultat des mots tokénisés et non pas comme avant "
      ],
      "metadata": {
        "colab": {
          "base_uri": "https://localhost:8080/",
          "height": 206
        },
        "id": "pCufjUsPFVcw",
        "outputId": "41765bfd-a7ee-4003-f0e3-02620453ceb2"
      },
      "execution_count": 40,
      "outputs": [
        {
          "output_type": "execute_result",
          "data": {
            "text/plain": [
              "                                         Description  \\\n",
              "0  On s'attendait à une fin plus élaborée, claire...   \n",
              "1  Encore une série très sur-côtée ! Tout est pré...   \n",
              "2  Pas fan des séries coréennes en général. Je do...   \n",
              "3  Disons le tout de suite, je suis fan depuis 30...   \n",
              "4  Visuellement recherché, très ludique, rythmé e...   \n",
              "\n",
              "                                            Tokens_2  \n",
              "0  [On, s'attendait, à, une, fin, plus, élaborée,...  \n",
              "1  [Encore, une, série, très, sur-côtée, !, Tout,...  \n",
              "2  [Pas, fan, des, séries, coréennes, en, général...  \n",
              "3  [Disons, le, tout, de, suite, ,, je, suis, fan...  \n",
              "4  [Visuellement, recherché, ,, très, ludique, ,,...  "
            ],
            "text/html": [
              "\n",
              "  <div id=\"df-2a3ae13b-e457-4eb2-b389-19822779bc51\">\n",
              "    <div class=\"colab-df-container\">\n",
              "      <div>\n",
              "<style scoped>\n",
              "    .dataframe tbody tr th:only-of-type {\n",
              "        vertical-align: middle;\n",
              "    }\n",
              "\n",
              "    .dataframe tbody tr th {\n",
              "        vertical-align: top;\n",
              "    }\n",
              "\n",
              "    .dataframe thead th {\n",
              "        text-align: right;\n",
              "    }\n",
              "</style>\n",
              "<table border=\"1\" class=\"dataframe\">\n",
              "  <thead>\n",
              "    <tr style=\"text-align: right;\">\n",
              "      <th></th>\n",
              "      <th>Description</th>\n",
              "      <th>Tokens_2</th>\n",
              "    </tr>\n",
              "  </thead>\n",
              "  <tbody>\n",
              "    <tr>\n",
              "      <th>0</th>\n",
              "      <td>On s'attendait à une fin plus élaborée, claire...</td>\n",
              "      <td>[On, s'attendait, à, une, fin, plus, élaborée,...</td>\n",
              "    </tr>\n",
              "    <tr>\n",
              "      <th>1</th>\n",
              "      <td>Encore une série très sur-côtée ! Tout est pré...</td>\n",
              "      <td>[Encore, une, série, très, sur-côtée, !, Tout,...</td>\n",
              "    </tr>\n",
              "    <tr>\n",
              "      <th>2</th>\n",
              "      <td>Pas fan des séries coréennes en général. Je do...</td>\n",
              "      <td>[Pas, fan, des, séries, coréennes, en, général...</td>\n",
              "    </tr>\n",
              "    <tr>\n",
              "      <th>3</th>\n",
              "      <td>Disons le tout de suite, je suis fan depuis 30...</td>\n",
              "      <td>[Disons, le, tout, de, suite, ,, je, suis, fan...</td>\n",
              "    </tr>\n",
              "    <tr>\n",
              "      <th>4</th>\n",
              "      <td>Visuellement recherché, très ludique, rythmé e...</td>\n",
              "      <td>[Visuellement, recherché, ,, très, ludique, ,,...</td>\n",
              "    </tr>\n",
              "  </tbody>\n",
              "</table>\n",
              "</div>\n",
              "      <button class=\"colab-df-convert\" onclick=\"convertToInteractive('df-2a3ae13b-e457-4eb2-b389-19822779bc51')\"\n",
              "              title=\"Convert this dataframe to an interactive table.\"\n",
              "              style=\"display:none;\">\n",
              "        \n",
              "  <svg xmlns=\"http://www.w3.org/2000/svg\" height=\"24px\"viewBox=\"0 0 24 24\"\n",
              "       width=\"24px\">\n",
              "    <path d=\"M0 0h24v24H0V0z\" fill=\"none\"/>\n",
              "    <path d=\"M18.56 5.44l.94 2.06.94-2.06 2.06-.94-2.06-.94-.94-2.06-.94 2.06-2.06.94zm-11 1L8.5 8.5l.94-2.06 2.06-.94-2.06-.94L8.5 2.5l-.94 2.06-2.06.94zm10 10l.94 2.06.94-2.06 2.06-.94-2.06-.94-.94-2.06-.94 2.06-2.06.94z\"/><path d=\"M17.41 7.96l-1.37-1.37c-.4-.4-.92-.59-1.43-.59-.52 0-1.04.2-1.43.59L10.3 9.45l-7.72 7.72c-.78.78-.78 2.05 0 2.83L4 21.41c.39.39.9.59 1.41.59.51 0 1.02-.2 1.41-.59l7.78-7.78 2.81-2.81c.8-.78.8-2.07 0-2.86zM5.41 20L4 18.59l7.72-7.72 1.47 1.35L5.41 20z\"/>\n",
              "  </svg>\n",
              "      </button>\n",
              "      \n",
              "  <style>\n",
              "    .colab-df-container {\n",
              "      display:flex;\n",
              "      flex-wrap:wrap;\n",
              "      gap: 12px;\n",
              "    }\n",
              "\n",
              "    .colab-df-convert {\n",
              "      background-color: #E8F0FE;\n",
              "      border: none;\n",
              "      border-radius: 50%;\n",
              "      cursor: pointer;\n",
              "      display: none;\n",
              "      fill: #1967D2;\n",
              "      height: 32px;\n",
              "      padding: 0 0 0 0;\n",
              "      width: 32px;\n",
              "    }\n",
              "\n",
              "    .colab-df-convert:hover {\n",
              "      background-color: #E2EBFA;\n",
              "      box-shadow: 0px 1px 2px rgba(60, 64, 67, 0.3), 0px 1px 3px 1px rgba(60, 64, 67, 0.15);\n",
              "      fill: #174EA6;\n",
              "    }\n",
              "\n",
              "    [theme=dark] .colab-df-convert {\n",
              "      background-color: #3B4455;\n",
              "      fill: #D2E3FC;\n",
              "    }\n",
              "\n",
              "    [theme=dark] .colab-df-convert:hover {\n",
              "      background-color: #434B5C;\n",
              "      box-shadow: 0px 1px 3px 1px rgba(0, 0, 0, 0.15);\n",
              "      filter: drop-shadow(0px 1px 2px rgba(0, 0, 0, 0.3));\n",
              "      fill: #FFFFFF;\n",
              "    }\n",
              "  </style>\n",
              "\n",
              "      <script>\n",
              "        const buttonEl =\n",
              "          document.querySelector('#df-2a3ae13b-e457-4eb2-b389-19822779bc51 button.colab-df-convert');\n",
              "        buttonEl.style.display =\n",
              "          google.colab.kernel.accessAllowed ? 'block' : 'none';\n",
              "\n",
              "        async function convertToInteractive(key) {\n",
              "          const element = document.querySelector('#df-2a3ae13b-e457-4eb2-b389-19822779bc51');\n",
              "          const dataTable =\n",
              "            await google.colab.kernel.invokeFunction('convertToInteractive',\n",
              "                                                     [key], {});\n",
              "          if (!dataTable) return;\n",
              "\n",
              "          const docLinkHtml = 'Like what you see? Visit the ' +\n",
              "            '<a target=\"_blank\" href=https://colab.research.google.com/notebooks/data_table.ipynb>data table notebook</a>'\n",
              "            + ' to learn more about interactive tables.';\n",
              "          element.innerHTML = '';\n",
              "          dataTable['output_type'] = 'display_data';\n",
              "          await google.colab.output.renderOutput(dataTable, element);\n",
              "          const docLink = document.createElement('div');\n",
              "          docLink.innerHTML = docLinkHtml;\n",
              "          element.appendChild(docLink);\n",
              "        }\n",
              "      </script>\n",
              "    </div>\n",
              "  </div>\n",
              "  "
            ]
          },
          "metadata": {},
          "execution_count": 40
        }
      ]
    },
    {
      "cell_type": "markdown",
      "source": [
        "Suppression des stops words"
      ],
      "metadata": {
        "id": "42MiLO2vH3IP"
      }
    },
    {
      "cell_type": "code",
      "source": [
        "snow_stemmer = SnowballStemmer(language='french')\n",
        "\n",
        "french_stopwords = stopwords.words('french')\n",
        "stop_words_fr_without_negation = [i for i in french_stopwords if i not in ['ne', 'pas', 'mais']]\n",
        "\n",
        "df['stop_words'] = df['tokens'].apply(lambda x:[item for item in x if item not in stop_words_fr_without_negation])\n",
        "\n",
        "df['stemm'] = df['stop_words'].apply(lambda x:[snow_stemmer.stem(item) for item in x])"
      ],
      "metadata": {
        "id": "7xCFzax1H2CV"
      },
      "execution_count": 41,
      "outputs": []
    },
    {
      "cell_type": "code",
      "source": [
        "df.head(10)\n",
        "df_class = df.copy() # copie pour travailler avec le Naive Bayes sur les notes "
      ],
      "metadata": {
        "id": "0_JCYZwDIHoV"
      },
      "execution_count": 42,
      "outputs": []
    },
    {
      "cell_type": "code",
      "source": [
        "df['Note']"
      ],
      "metadata": {
        "colab": {
          "base_uri": "https://localhost:8080/"
        },
        "id": "RL-Pbf_eKgzt",
        "outputId": "cd8eafc8-6351-44e2-becd-34653e774e88"
      },
      "execution_count": 43,
      "outputs": [
        {
          "output_type": "execute_result",
          "data": {
            "text/plain": [
              "0      3.0\n",
              "1      2.5\n",
              "2      4.5\n",
              "3      4.5\n",
              "4      4.0\n",
              "      ... \n",
              "336    5.0\n",
              "337    4.5\n",
              "338    4.0\n",
              "339    3.5\n",
              "340    4.5\n",
              "Name: Note, Length: 341, dtype: float64"
            ]
          },
          "metadata": {},
          "execution_count": 43
        }
      ]
    },
    {
      "cell_type": "code",
      "source": [
        "#definition de la colonne 'sentiment' comme 'la note' (on aura un résultat binaire)\n",
        "df['Sentiment'] = df['Note'].apply(lambda x: 0 if x<4 else 1) "
      ],
      "metadata": {
        "id": "5ZYG-vqOKlTL"
      },
      "execution_count": 44,
      "outputs": []
    },
    {
      "cell_type": "code",
      "source": [
        "df_y = df['Sentiment']"
      ],
      "metadata": {
        "id": "xLvNamCuKvI0"
      },
      "execution_count": 45,
      "outputs": []
    },
    {
      "cell_type": "code",
      "source": [
        "df.drop('Sentiment', axis=1, inplace = True) #on a supprimé la colonne sentiment vu qu'on va l'utiliser pour le classement "
      ],
      "metadata": {
        "id": "R_RLlXHcLOeb"
      },
      "execution_count": 46,
      "outputs": []
    },
    {
      "cell_type": "code",
      "source": [
        "df.drop('Note', axis=1, inplace = True) #on a la colonne sentiment pour la classification"
      ],
      "metadata": {
        "id": "EJEoSbgDLg6V"
      },
      "execution_count": 47,
      "outputs": []
    },
    {
      "cell_type": "code",
      "source": [
        "df.head()"
      ],
      "metadata": {
        "colab": {
          "base_uri": "https://localhost:8080/",
          "height": 528
        },
        "id": "hHdbH_AsLmCy",
        "outputId": "aa3579fb-2e3c-406c-8870-72df703d6317"
      },
      "execution_count": 48,
      "outputs": [
        {
          "output_type": "execute_result",
          "data": {
            "text/plain": [
              "                                         Description  key   datetime good bad  \\\n",
              "0  On s'attendait à une fin plus élaborée, claire...    0 2021-10-02   22  10   \n",
              "1  Encore une série très sur-côtée ! Tout est pré...    1 2021-10-01   24  12   \n",
              "2  Pas fan des séries coréennes en général. Je do...    2 2021-09-22   20  21   \n",
              "3  Disons le tout de suite, je suis fan depuis 30...    3 2021-10-05    9  10   \n",
              "4  Visuellement recherché, très ludique, rythmé e...    4 2021-09-25    7   9   \n",
              "\n",
              "   nb_mot  nb_phrase  nb_caractere  \\\n",
              "0     562         14          2665   \n",
              "1      89          3           402   \n",
              "2      30          4           151   \n",
              "3     136          6           656   \n",
              "4      30          2           167   \n",
              "\n",
              "                                   description_clean  \\\n",
              "0  On s'attendait à une fin plus élaborée clairem...   \n",
              "1  Encore une série très sur-côtée  Tout est prév...   \n",
              "2  Pas fan des séries coréennes en général Je doi...   \n",
              "3  Disons le tout de suite je suis fan depuis  an...   \n",
              "4  Visuellement recherché très ludique rythmé et ...   \n",
              "\n",
              "                                              tokens  \\\n",
              "0  [On, s'attendait, à, une, fin, plus, élaborée,...   \n",
              "1  [Encore, une, série, très, sur-côtée, Tout, es...   \n",
              "2  [Pas, fan, des, séries, coréennes, en, général...   \n",
              "3  [Disons, le, tout, de, suite, je, suis, fan, d...   \n",
              "4  [Visuellement, recherché, très, ludique, rythm...   \n",
              "\n",
              "                                            Tokens_2  \\\n",
              "0  [On, s'attendait, à, une, fin, plus, élaborée,...   \n",
              "1  [Encore, une, série, très, sur-côtée, !, Tout,...   \n",
              "2  [Pas, fan, des, séries, coréennes, en, général...   \n",
              "3  [Disons, le, tout, de, suite, ,, je, suis, fan...   \n",
              "4  [Visuellement, recherché, ,, très, ludique, ,,...   \n",
              "\n",
              "                                          stop_words  \\\n",
              "0  [On, s'attendait, fin, plus, élaborée, clairem...   \n",
              "1  [Encore, série, très, sur-côtée, Tout, prévisi...   \n",
              "2  [Pas, fan, séries, coréennes, général, Je, doi...   \n",
              "3  [Disons, tout, suite, fan, depuis, ans, produc...   \n",
              "4  [Visuellement, recherché, très, ludique, rythm...   \n",
              "\n",
              "                                               stemm  \n",
              "0  [on, s'attend, fin, plus, élabor, clair, de, d...  \n",
              "1  [encor, ser, tres, sur-côt, tout, prévisibl, p...  \n",
              "2  [pas, fan, ser, coréen, général, je, dois, avo...  \n",
              "3  [dison, tout, suit, fan, depuis, an, product, ...  \n",
              "4  [visuel, recherch, tres, ludiqu, rythm, galer,...  "
            ],
            "text/html": [
              "\n",
              "  <div id=\"df-567de68f-7874-4f3a-909c-b20bff157071\">\n",
              "    <div class=\"colab-df-container\">\n",
              "      <div>\n",
              "<style scoped>\n",
              "    .dataframe tbody tr th:only-of-type {\n",
              "        vertical-align: middle;\n",
              "    }\n",
              "\n",
              "    .dataframe tbody tr th {\n",
              "        vertical-align: top;\n",
              "    }\n",
              "\n",
              "    .dataframe thead th {\n",
              "        text-align: right;\n",
              "    }\n",
              "</style>\n",
              "<table border=\"1\" class=\"dataframe\">\n",
              "  <thead>\n",
              "    <tr style=\"text-align: right;\">\n",
              "      <th></th>\n",
              "      <th>Description</th>\n",
              "      <th>key</th>\n",
              "      <th>datetime</th>\n",
              "      <th>good</th>\n",
              "      <th>bad</th>\n",
              "      <th>nb_mot</th>\n",
              "      <th>nb_phrase</th>\n",
              "      <th>nb_caractere</th>\n",
              "      <th>description_clean</th>\n",
              "      <th>tokens</th>\n",
              "      <th>Tokens_2</th>\n",
              "      <th>stop_words</th>\n",
              "      <th>stemm</th>\n",
              "    </tr>\n",
              "  </thead>\n",
              "  <tbody>\n",
              "    <tr>\n",
              "      <th>0</th>\n",
              "      <td>On s'attendait à une fin plus élaborée, claire...</td>\n",
              "      <td>0</td>\n",
              "      <td>2021-10-02</td>\n",
              "      <td>22</td>\n",
              "      <td>10</td>\n",
              "      <td>562</td>\n",
              "      <td>14</td>\n",
              "      <td>2665</td>\n",
              "      <td>On s'attendait à une fin plus élaborée clairem...</td>\n",
              "      <td>[On, s'attendait, à, une, fin, plus, élaborée,...</td>\n",
              "      <td>[On, s'attendait, à, une, fin, plus, élaborée,...</td>\n",
              "      <td>[On, s'attendait, fin, plus, élaborée, clairem...</td>\n",
              "      <td>[on, s'attend, fin, plus, élabor, clair, de, d...</td>\n",
              "    </tr>\n",
              "    <tr>\n",
              "      <th>1</th>\n",
              "      <td>Encore une série très sur-côtée ! Tout est pré...</td>\n",
              "      <td>1</td>\n",
              "      <td>2021-10-01</td>\n",
              "      <td>24</td>\n",
              "      <td>12</td>\n",
              "      <td>89</td>\n",
              "      <td>3</td>\n",
              "      <td>402</td>\n",
              "      <td>Encore une série très sur-côtée  Tout est prév...</td>\n",
              "      <td>[Encore, une, série, très, sur-côtée, Tout, es...</td>\n",
              "      <td>[Encore, une, série, très, sur-côtée, !, Tout,...</td>\n",
              "      <td>[Encore, série, très, sur-côtée, Tout, prévisi...</td>\n",
              "      <td>[encor, ser, tres, sur-côt, tout, prévisibl, p...</td>\n",
              "    </tr>\n",
              "    <tr>\n",
              "      <th>2</th>\n",
              "      <td>Pas fan des séries coréennes en général. Je do...</td>\n",
              "      <td>2</td>\n",
              "      <td>2021-09-22</td>\n",
              "      <td>20</td>\n",
              "      <td>21</td>\n",
              "      <td>30</td>\n",
              "      <td>4</td>\n",
              "      <td>151</td>\n",
              "      <td>Pas fan des séries coréennes en général Je doi...</td>\n",
              "      <td>[Pas, fan, des, séries, coréennes, en, général...</td>\n",
              "      <td>[Pas, fan, des, séries, coréennes, en, général...</td>\n",
              "      <td>[Pas, fan, séries, coréennes, général, Je, doi...</td>\n",
              "      <td>[pas, fan, ser, coréen, général, je, dois, avo...</td>\n",
              "    </tr>\n",
              "    <tr>\n",
              "      <th>3</th>\n",
              "      <td>Disons le tout de suite, je suis fan depuis 30...</td>\n",
              "      <td>3</td>\n",
              "      <td>2021-10-05</td>\n",
              "      <td>9</td>\n",
              "      <td>10</td>\n",
              "      <td>136</td>\n",
              "      <td>6</td>\n",
              "      <td>656</td>\n",
              "      <td>Disons le tout de suite je suis fan depuis  an...</td>\n",
              "      <td>[Disons, le, tout, de, suite, je, suis, fan, d...</td>\n",
              "      <td>[Disons, le, tout, de, suite, ,, je, suis, fan...</td>\n",
              "      <td>[Disons, tout, suite, fan, depuis, ans, produc...</td>\n",
              "      <td>[dison, tout, suit, fan, depuis, an, product, ...</td>\n",
              "    </tr>\n",
              "    <tr>\n",
              "      <th>4</th>\n",
              "      <td>Visuellement recherché, très ludique, rythmé e...</td>\n",
              "      <td>4</td>\n",
              "      <td>2021-09-25</td>\n",
              "      <td>7</td>\n",
              "      <td>9</td>\n",
              "      <td>30</td>\n",
              "      <td>2</td>\n",
              "      <td>167</td>\n",
              "      <td>Visuellement recherché très ludique rythmé et ...</td>\n",
              "      <td>[Visuellement, recherché, très, ludique, rythm...</td>\n",
              "      <td>[Visuellement, recherché, ,, très, ludique, ,,...</td>\n",
              "      <td>[Visuellement, recherché, très, ludique, rythm...</td>\n",
              "      <td>[visuel, recherch, tres, ludiqu, rythm, galer,...</td>\n",
              "    </tr>\n",
              "  </tbody>\n",
              "</table>\n",
              "</div>\n",
              "      <button class=\"colab-df-convert\" onclick=\"convertToInteractive('df-567de68f-7874-4f3a-909c-b20bff157071')\"\n",
              "              title=\"Convert this dataframe to an interactive table.\"\n",
              "              style=\"display:none;\">\n",
              "        \n",
              "  <svg xmlns=\"http://www.w3.org/2000/svg\" height=\"24px\"viewBox=\"0 0 24 24\"\n",
              "       width=\"24px\">\n",
              "    <path d=\"M0 0h24v24H0V0z\" fill=\"none\"/>\n",
              "    <path d=\"M18.56 5.44l.94 2.06.94-2.06 2.06-.94-2.06-.94-.94-2.06-.94 2.06-2.06.94zm-11 1L8.5 8.5l.94-2.06 2.06-.94-2.06-.94L8.5 2.5l-.94 2.06-2.06.94zm10 10l.94 2.06.94-2.06 2.06-.94-2.06-.94-.94-2.06-.94 2.06-2.06.94z\"/><path d=\"M17.41 7.96l-1.37-1.37c-.4-.4-.92-.59-1.43-.59-.52 0-1.04.2-1.43.59L10.3 9.45l-7.72 7.72c-.78.78-.78 2.05 0 2.83L4 21.41c.39.39.9.59 1.41.59.51 0 1.02-.2 1.41-.59l7.78-7.78 2.81-2.81c.8-.78.8-2.07 0-2.86zM5.41 20L4 18.59l7.72-7.72 1.47 1.35L5.41 20z\"/>\n",
              "  </svg>\n",
              "      </button>\n",
              "      \n",
              "  <style>\n",
              "    .colab-df-container {\n",
              "      display:flex;\n",
              "      flex-wrap:wrap;\n",
              "      gap: 12px;\n",
              "    }\n",
              "\n",
              "    .colab-df-convert {\n",
              "      background-color: #E8F0FE;\n",
              "      border: none;\n",
              "      border-radius: 50%;\n",
              "      cursor: pointer;\n",
              "      display: none;\n",
              "      fill: #1967D2;\n",
              "      height: 32px;\n",
              "      padding: 0 0 0 0;\n",
              "      width: 32px;\n",
              "    }\n",
              "\n",
              "    .colab-df-convert:hover {\n",
              "      background-color: #E2EBFA;\n",
              "      box-shadow: 0px 1px 2px rgba(60, 64, 67, 0.3), 0px 1px 3px 1px rgba(60, 64, 67, 0.15);\n",
              "      fill: #174EA6;\n",
              "    }\n",
              "\n",
              "    [theme=dark] .colab-df-convert {\n",
              "      background-color: #3B4455;\n",
              "      fill: #D2E3FC;\n",
              "    }\n",
              "\n",
              "    [theme=dark] .colab-df-convert:hover {\n",
              "      background-color: #434B5C;\n",
              "      box-shadow: 0px 1px 3px 1px rgba(0, 0, 0, 0.15);\n",
              "      filter: drop-shadow(0px 1px 2px rgba(0, 0, 0, 0.3));\n",
              "      fill: #FFFFFF;\n",
              "    }\n",
              "  </style>\n",
              "\n",
              "      <script>\n",
              "        const buttonEl =\n",
              "          document.querySelector('#df-567de68f-7874-4f3a-909c-b20bff157071 button.colab-df-convert');\n",
              "        buttonEl.style.display =\n",
              "          google.colab.kernel.accessAllowed ? 'block' : 'none';\n",
              "\n",
              "        async function convertToInteractive(key) {\n",
              "          const element = document.querySelector('#df-567de68f-7874-4f3a-909c-b20bff157071');\n",
              "          const dataTable =\n",
              "            await google.colab.kernel.invokeFunction('convertToInteractive',\n",
              "                                                     [key], {});\n",
              "          if (!dataTable) return;\n",
              "\n",
              "          const docLinkHtml = 'Like what you see? Visit the ' +\n",
              "            '<a target=\"_blank\" href=https://colab.research.google.com/notebooks/data_table.ipynb>data table notebook</a>'\n",
              "            + ' to learn more about interactive tables.';\n",
              "          element.innerHTML = '';\n",
              "          dataTable['output_type'] = 'display_data';\n",
              "          await google.colab.output.renderOutput(dataTable, element);\n",
              "          const docLink = document.createElement('div');\n",
              "          docLink.innerHTML = docLinkHtml;\n",
              "          element.appendChild(docLink);\n",
              "        }\n",
              "      </script>\n",
              "    </div>\n",
              "  </div>\n",
              "  "
            ]
          },
          "metadata": {},
          "execution_count": 48
        }
      ]
    },
    {
      "cell_type": "markdown",
      "source": [
        "**Train/Test SPLIT**"
      ],
      "metadata": {
        "id": "NWXZt5WhMdRA"
      }
    },
    {
      "cell_type": "markdown",
      "source": [
        "doc: https://scikit-learn.org/stable/modules/generated/sklearn.model_selection.train_test_split.html"
      ],
      "metadata": {
        "id": "U2fsuqkrMuLq"
      }
    },
    {
      "cell_type": "code",
      "source": [
        "from sklearn.model_selection import train_test_split\n",
        "X_train, X_test, y_train, y_test = train_test_split(df['stemm'],df_y, test_size=0.3, random_state=27) \n",
        "#df_y=df['sentiment]\n",
        "#l'algo de bayes est un algorithme d'apprentissage supervisé, on a donc:\n",
        "# y sentiment (on les a classé en 0 et 1)\n",
        "# x est l'ensemble des phrases tokenisées et après stemmig"
      ],
      "metadata": {
        "id": "3Wdd2W9CMdIs"
      },
      "execution_count": 85,
      "outputs": []
    },
    {
      "cell_type": "code",
      "source": [
        "y_train.value_counts()"
      ],
      "metadata": {
        "colab": {
          "base_uri": "https://localhost:8080/"
        },
        "id": "TluyPE-rDv0I",
        "outputId": "be865924-5cd6-4f12-b7a9-8c3c06d4d4d9"
      },
      "execution_count": 86,
      "outputs": [
        {
          "output_type": "execute_result",
          "data": {
            "text/plain": [
              "1    124\n",
              "0    114\n",
              "Name: Sentiment, dtype: int64"
            ]
          },
          "metadata": {},
          "execution_count": 86
        }
      ]
    },
    {
      "cell_type": "code",
      "source": [
        "y_test.value_counts()"
      ],
      "metadata": {
        "colab": {
          "base_uri": "https://localhost:8080/"
        },
        "id": "KpZphoJRLmsk",
        "outputId": "37786c7b-4114-47fd-9438-e9dacb774c6e"
      },
      "execution_count": 87,
      "outputs": [
        {
          "output_type": "execute_result",
          "data": {
            "text/plain": [
              "1    55\n",
              "0    48\n",
              "Name: Sentiment, dtype: int64"
            ]
          },
          "metadata": {},
          "execution_count": 87
        }
      ]
    },
    {
      "cell_type": "code",
      "source": [
        "X_test"
      ],
      "metadata": {
        "colab": {
          "base_uri": "https://localhost:8080/"
        },
        "id": "i7XaICraT5fl",
        "outputId": "d9d0d688-8fd8-4d6e-8ed3-16ceca4c68dc"
      },
      "execution_count": 88,
      "outputs": [
        {
          "output_type": "execute_result",
          "data": {
            "text/plain": [
              "195    [pas, déplais, regard, mais, d'énorm, ficel, s...\n",
              "236    [j'ai, pass, bon, moment, dev, squid, gam, déc...\n",
              "21     [décor, imag, sublim, melang, battl, royal, se...\n",
              "325    [on, a, toujour, droit, sempiternel, pseudo-ex...\n",
              "216    [malgr, l'engou, international, cet, ser, ne, ...\n",
              "                             ...                        \n",
              "29     [vrai, fan, film, cor, sud, excellent, thrille...\n",
              "260    [ok, direct, artist, reuss, jeux, parfois, hal...\n",
              "252    [excellent, ser, mérit, larg, battag, médiat, ...\n",
              "208    [général, ne, absolu, pas, ser, survival, mais...\n",
              "226    [👍👍👍👍👍👍👍👍👍👍👍👍👍👍👍👍👍👍👍👍👍👍👍👍👍👍👍👍👍👍👍👍👍👍👍👍👍👍👍👍👍👍👍👍👍...\n",
              "Name: stemm, Length: 103, dtype: object"
            ]
          },
          "metadata": {},
          "execution_count": 88
        }
      ]
    },
    {
      "cell_type": "code",
      "source": [
        "X_train"
      ],
      "metadata": {
        "colab": {
          "base_uri": "https://localhost:8080/"
        },
        "id": "nzmaQRJIUJsC",
        "outputId": "48a962e9-8233-48a4-b123-dcc9aae42fbe"
      },
      "execution_count": 89,
      "outputs": [
        {
          "output_type": "execute_result",
          "data": {
            "text/plain": [
              "90     [excellent, personnag, incroi, ains, jeux, sus...\n",
              "143    [tres, inspir, battl, royal, donc, pas, vrai, ...\n",
              "80     [sort, prix, dang, version, encor, plus, proch...\n",
              "145    [la, ser, a, fait, l'effet, d'un, bomb, mais, ...\n",
              "277              [plutôt, symp, j'ai, hât, voir, saison]\n",
              "                             ...                        \n",
              "312    [une, ser, fait, pass, temp, la, chut, plus, m...\n",
              "31     [franch, tres, surpr, cet, ser, just, incroi, ...\n",
              "328    [la, ser, regard, bien, univer, hung, gam, jeu...\n",
              "184    [cet, ser, excellent, est-ce, chef, d'œuvr, ma...\n",
              "19     [excellent, ser, plein, rebond, personnag, int...\n",
              "Name: stemm, Length: 238, dtype: object"
            ]
          },
          "metadata": {},
          "execution_count": 89
        }
      ]
    },
    {
      "cell_type": "code",
      "source": [
        "y_train"
      ],
      "metadata": {
        "colab": {
          "base_uri": "https://localhost:8080/"
        },
        "id": "J59yypFEUPy3",
        "outputId": "36ba61e2-5ac6-4cc2-bd0b-7b23cc36a86e"
      },
      "execution_count": 53,
      "outputs": [
        {
          "output_type": "execute_result",
          "data": {
            "text/plain": [
              "90     1\n",
              "143    0\n",
              "80     1\n",
              "145    0\n",
              "277    0\n",
              "      ..\n",
              "312    0\n",
              "31     1\n",
              "328    0\n",
              "184    1\n",
              "19     1\n",
              "Name: Sentiment, Length: 238, dtype: int64"
            ]
          },
          "metadata": {},
          "execution_count": 53
        }
      ]
    },
    {
      "cell_type": "markdown",
      "source": [
        "**TF-IDF**"
      ],
      "metadata": {
        "id": "ne0IOhrxV91b"
      }
    },
    {
      "cell_type": "markdown",
      "source": [
        "doc: https://scikit-learn.org/stable/modules/generated/sklearn.feature_extraction.text.TfidfVectorizer.html?highlight=tf%20idf#sklearn.feature_extraction.text.TfidfVectorizer "
      ],
      "metadata": {
        "id": "23sOMFbleKYc"
      }
    },
    {
      "cell_type": "code",
      "source": [
        "from sklearn.feature_extraction.text import TfidfVectorizer\n",
        "vectorizer = TfidfVectorizer()\n",
        "\n",
        "X_train_tfidf = vectorizer.fit_transform([\" \".join(words) for words in X_train])\n",
        "labels_X_tfidf=vectorizer.get_feature_names_out()\n",
        "\n",
        "X_test_tfidf = vectorizer.transform([\" \".join(words) for words in X_test])"
      ],
      "metadata": {
        "id": "SoVe8vVtVEnx"
      },
      "execution_count": 90,
      "outputs": []
    },
    {
      "cell_type": "code",
      "source": [
        "X_train_tfidf"
      ],
      "metadata": {
        "colab": {
          "base_uri": "https://localhost:8080/"
        },
        "id": "2FQdCJ5NeloG",
        "outputId": "ce136a7c-6bb2-4972-d1fc-ef108b92a83e"
      },
      "execution_count": 91,
      "outputs": [
        {
          "output_type": "execute_result",
          "data": {
            "text/plain": [
              "<238x2961 sparse matrix of type '<class 'numpy.float64'>'\n",
              "\twith 12390 stored elements in Compressed Sparse Row format>"
            ]
          },
          "metadata": {},
          "execution_count": 91
        }
      ]
    },
    {
      "cell_type": "code",
      "source": [
        "labels_X_tfidf"
      ],
      "metadata": {
        "colab": {
          "base_uri": "https://localhost:8080/"
        },
        "id": "-5qlQBKZXZkY",
        "outputId": "728a664a-a9ce-47d2-cdf9-9cbc6a451847"
      },
      "execution_count": 92,
      "outputs": [
        {
          "output_type": "execute_result",
          "data": {
            "text/plain": [
              "array(['abandon', 'abattr', 'abim', ..., 'œil', 'œuvr', 'œuvresc'],\n",
              "      dtype=object)"
            ]
          },
          "metadata": {},
          "execution_count": 92
        }
      ]
    },
    {
      "cell_type": "code",
      "source": [
        "X_train_tfidf.shape"
      ],
      "metadata": {
        "colab": {
          "base_uri": "https://localhost:8080/"
        },
        "id": "mS_Q0Vo-eiIN",
        "outputId": "88102c60-4429-4d05-b518-2a218ed8974a"
      },
      "execution_count": 93,
      "outputs": [
        {
          "output_type": "execute_result",
          "data": {
            "text/plain": [
              "(238, 2961)"
            ]
          },
          "metadata": {},
          "execution_count": 93
        }
      ]
    },
    {
      "cell_type": "code",
      "source": [
        "X_test_tfidf.shape"
      ],
      "metadata": {
        "colab": {
          "base_uri": "https://localhost:8080/"
        },
        "id": "el70KNcvEhf1",
        "outputId": "d8dc3486-5171-4115-f4d3-b60e800cc5c6"
      },
      "execution_count": 95,
      "outputs": [
        {
          "output_type": "execute_result",
          "data": {
            "text/plain": [
              "(103, 2961)"
            ]
          },
          "metadata": {},
          "execution_count": 95
        }
      ]
    },
    {
      "cell_type": "code",
      "source": [
        "df_tidf_train = pd.DataFrame(data=X_train_tfidf.toarray(), columns=labels_X_tfidf)  #print la matrice de tf-idf\n",
        "#nb de transformer X_train_tfidf en array"
      ],
      "metadata": {
        "id": "gS5iYMISe5T2"
      },
      "execution_count": 96,
      "outputs": []
    },
    {
      "cell_type": "code",
      "source": [
        "df_tidf_train.tail()"
      ],
      "metadata": {
        "colab": {
          "base_uri": "https://localhost:8080/",
          "height": 236
        },
        "id": "E85eIpF-fP2s",
        "outputId": "686d1030-355f-46a8-bd83-46897d7a4a41"
      },
      "execution_count": 97,
      "outputs": [
        {
          "output_type": "execute_result",
          "data": {
            "text/plain": [
              "     abandon  abattr  abim  abord  about  abri  abscon  absenc  absolu  \\\n",
              "233      0.0     0.0   0.0    0.0    0.0   0.0     0.0     0.0     0.0   \n",
              "234      0.0     0.0   0.0    0.0    0.0   0.0     0.0     0.0     0.0   \n",
              "235      0.0     0.0   0.0    0.0    0.0   0.0     0.0     0.0     0.0   \n",
              "236      0.0     0.0   0.0    0.0    0.0   0.0     0.0     0.0     0.0   \n",
              "237      0.0     0.0   0.0    0.0    0.0   0.0     0.0     0.0     0.0   \n",
              "\n",
              "     absten  ...  évident  évit  évolu  êre       êtr      être  île  œil  \\\n",
              "233     0.0  ...      0.0   0.0    0.0  0.0  0.000000  0.104753  0.0  0.0   \n",
              "234     0.0  ...      0.0   0.0    0.0  0.0  0.000000  0.000000  0.0  0.0   \n",
              "235     0.0  ...      0.0   0.0    0.0  0.0  0.000000  0.090519  0.0  0.0   \n",
              "236     0.0  ...      0.0   0.0    0.0  0.0  0.091514  0.000000  0.0  0.0   \n",
              "237     0.0  ...      0.0   0.0    0.0  0.0  0.000000  0.000000  0.0  0.0   \n",
              "\n",
              "         œuvr  œuvresc  \n",
              "233  0.000000      0.0  \n",
              "234  0.000000      0.0  \n",
              "235  0.000000      0.0  \n",
              "236  0.332624      0.0  \n",
              "237  0.000000      0.0  \n",
              "\n",
              "[5 rows x 2961 columns]"
            ],
            "text/html": [
              "\n",
              "  <div id=\"df-a6cc66db-1389-4fd5-8909-62d03c574e97\">\n",
              "    <div class=\"colab-df-container\">\n",
              "      <div>\n",
              "<style scoped>\n",
              "    .dataframe tbody tr th:only-of-type {\n",
              "        vertical-align: middle;\n",
              "    }\n",
              "\n",
              "    .dataframe tbody tr th {\n",
              "        vertical-align: top;\n",
              "    }\n",
              "\n",
              "    .dataframe thead th {\n",
              "        text-align: right;\n",
              "    }\n",
              "</style>\n",
              "<table border=\"1\" class=\"dataframe\">\n",
              "  <thead>\n",
              "    <tr style=\"text-align: right;\">\n",
              "      <th></th>\n",
              "      <th>abandon</th>\n",
              "      <th>abattr</th>\n",
              "      <th>abim</th>\n",
              "      <th>abord</th>\n",
              "      <th>about</th>\n",
              "      <th>abri</th>\n",
              "      <th>abscon</th>\n",
              "      <th>absenc</th>\n",
              "      <th>absolu</th>\n",
              "      <th>absten</th>\n",
              "      <th>...</th>\n",
              "      <th>évident</th>\n",
              "      <th>évit</th>\n",
              "      <th>évolu</th>\n",
              "      <th>êre</th>\n",
              "      <th>êtr</th>\n",
              "      <th>être</th>\n",
              "      <th>île</th>\n",
              "      <th>œil</th>\n",
              "      <th>œuvr</th>\n",
              "      <th>œuvresc</th>\n",
              "    </tr>\n",
              "  </thead>\n",
              "  <tbody>\n",
              "    <tr>\n",
              "      <th>233</th>\n",
              "      <td>0.0</td>\n",
              "      <td>0.0</td>\n",
              "      <td>0.0</td>\n",
              "      <td>0.0</td>\n",
              "      <td>0.0</td>\n",
              "      <td>0.0</td>\n",
              "      <td>0.0</td>\n",
              "      <td>0.0</td>\n",
              "      <td>0.0</td>\n",
              "      <td>0.0</td>\n",
              "      <td>...</td>\n",
              "      <td>0.0</td>\n",
              "      <td>0.0</td>\n",
              "      <td>0.0</td>\n",
              "      <td>0.0</td>\n",
              "      <td>0.000000</td>\n",
              "      <td>0.104753</td>\n",
              "      <td>0.0</td>\n",
              "      <td>0.0</td>\n",
              "      <td>0.000000</td>\n",
              "      <td>0.0</td>\n",
              "    </tr>\n",
              "    <tr>\n",
              "      <th>234</th>\n",
              "      <td>0.0</td>\n",
              "      <td>0.0</td>\n",
              "      <td>0.0</td>\n",
              "      <td>0.0</td>\n",
              "      <td>0.0</td>\n",
              "      <td>0.0</td>\n",
              "      <td>0.0</td>\n",
              "      <td>0.0</td>\n",
              "      <td>0.0</td>\n",
              "      <td>0.0</td>\n",
              "      <td>...</td>\n",
              "      <td>0.0</td>\n",
              "      <td>0.0</td>\n",
              "      <td>0.0</td>\n",
              "      <td>0.0</td>\n",
              "      <td>0.000000</td>\n",
              "      <td>0.000000</td>\n",
              "      <td>0.0</td>\n",
              "      <td>0.0</td>\n",
              "      <td>0.000000</td>\n",
              "      <td>0.0</td>\n",
              "    </tr>\n",
              "    <tr>\n",
              "      <th>235</th>\n",
              "      <td>0.0</td>\n",
              "      <td>0.0</td>\n",
              "      <td>0.0</td>\n",
              "      <td>0.0</td>\n",
              "      <td>0.0</td>\n",
              "      <td>0.0</td>\n",
              "      <td>0.0</td>\n",
              "      <td>0.0</td>\n",
              "      <td>0.0</td>\n",
              "      <td>0.0</td>\n",
              "      <td>...</td>\n",
              "      <td>0.0</td>\n",
              "      <td>0.0</td>\n",
              "      <td>0.0</td>\n",
              "      <td>0.0</td>\n",
              "      <td>0.000000</td>\n",
              "      <td>0.090519</td>\n",
              "      <td>0.0</td>\n",
              "      <td>0.0</td>\n",
              "      <td>0.000000</td>\n",
              "      <td>0.0</td>\n",
              "    </tr>\n",
              "    <tr>\n",
              "      <th>236</th>\n",
              "      <td>0.0</td>\n",
              "      <td>0.0</td>\n",
              "      <td>0.0</td>\n",
              "      <td>0.0</td>\n",
              "      <td>0.0</td>\n",
              "      <td>0.0</td>\n",
              "      <td>0.0</td>\n",
              "      <td>0.0</td>\n",
              "      <td>0.0</td>\n",
              "      <td>0.0</td>\n",
              "      <td>...</td>\n",
              "      <td>0.0</td>\n",
              "      <td>0.0</td>\n",
              "      <td>0.0</td>\n",
              "      <td>0.0</td>\n",
              "      <td>0.091514</td>\n",
              "      <td>0.000000</td>\n",
              "      <td>0.0</td>\n",
              "      <td>0.0</td>\n",
              "      <td>0.332624</td>\n",
              "      <td>0.0</td>\n",
              "    </tr>\n",
              "    <tr>\n",
              "      <th>237</th>\n",
              "      <td>0.0</td>\n",
              "      <td>0.0</td>\n",
              "      <td>0.0</td>\n",
              "      <td>0.0</td>\n",
              "      <td>0.0</td>\n",
              "      <td>0.0</td>\n",
              "      <td>0.0</td>\n",
              "      <td>0.0</td>\n",
              "      <td>0.0</td>\n",
              "      <td>0.0</td>\n",
              "      <td>...</td>\n",
              "      <td>0.0</td>\n",
              "      <td>0.0</td>\n",
              "      <td>0.0</td>\n",
              "      <td>0.0</td>\n",
              "      <td>0.000000</td>\n",
              "      <td>0.000000</td>\n",
              "      <td>0.0</td>\n",
              "      <td>0.0</td>\n",
              "      <td>0.000000</td>\n",
              "      <td>0.0</td>\n",
              "    </tr>\n",
              "  </tbody>\n",
              "</table>\n",
              "<p>5 rows × 2961 columns</p>\n",
              "</div>\n",
              "      <button class=\"colab-df-convert\" onclick=\"convertToInteractive('df-a6cc66db-1389-4fd5-8909-62d03c574e97')\"\n",
              "              title=\"Convert this dataframe to an interactive table.\"\n",
              "              style=\"display:none;\">\n",
              "        \n",
              "  <svg xmlns=\"http://www.w3.org/2000/svg\" height=\"24px\"viewBox=\"0 0 24 24\"\n",
              "       width=\"24px\">\n",
              "    <path d=\"M0 0h24v24H0V0z\" fill=\"none\"/>\n",
              "    <path d=\"M18.56 5.44l.94 2.06.94-2.06 2.06-.94-2.06-.94-.94-2.06-.94 2.06-2.06.94zm-11 1L8.5 8.5l.94-2.06 2.06-.94-2.06-.94L8.5 2.5l-.94 2.06-2.06.94zm10 10l.94 2.06.94-2.06 2.06-.94-2.06-.94-.94-2.06-.94 2.06-2.06.94z\"/><path d=\"M17.41 7.96l-1.37-1.37c-.4-.4-.92-.59-1.43-.59-.52 0-1.04.2-1.43.59L10.3 9.45l-7.72 7.72c-.78.78-.78 2.05 0 2.83L4 21.41c.39.39.9.59 1.41.59.51 0 1.02-.2 1.41-.59l7.78-7.78 2.81-2.81c.8-.78.8-2.07 0-2.86zM5.41 20L4 18.59l7.72-7.72 1.47 1.35L5.41 20z\"/>\n",
              "  </svg>\n",
              "      </button>\n",
              "      \n",
              "  <style>\n",
              "    .colab-df-container {\n",
              "      display:flex;\n",
              "      flex-wrap:wrap;\n",
              "      gap: 12px;\n",
              "    }\n",
              "\n",
              "    .colab-df-convert {\n",
              "      background-color: #E8F0FE;\n",
              "      border: none;\n",
              "      border-radius: 50%;\n",
              "      cursor: pointer;\n",
              "      display: none;\n",
              "      fill: #1967D2;\n",
              "      height: 32px;\n",
              "      padding: 0 0 0 0;\n",
              "      width: 32px;\n",
              "    }\n",
              "\n",
              "    .colab-df-convert:hover {\n",
              "      background-color: #E2EBFA;\n",
              "      box-shadow: 0px 1px 2px rgba(60, 64, 67, 0.3), 0px 1px 3px 1px rgba(60, 64, 67, 0.15);\n",
              "      fill: #174EA6;\n",
              "    }\n",
              "\n",
              "    [theme=dark] .colab-df-convert {\n",
              "      background-color: #3B4455;\n",
              "      fill: #D2E3FC;\n",
              "    }\n",
              "\n",
              "    [theme=dark] .colab-df-convert:hover {\n",
              "      background-color: #434B5C;\n",
              "      box-shadow: 0px 1px 3px 1px rgba(0, 0, 0, 0.15);\n",
              "      filter: drop-shadow(0px 1px 2px rgba(0, 0, 0, 0.3));\n",
              "      fill: #FFFFFF;\n",
              "    }\n",
              "  </style>\n",
              "\n",
              "      <script>\n",
              "        const buttonEl =\n",
              "          document.querySelector('#df-a6cc66db-1389-4fd5-8909-62d03c574e97 button.colab-df-convert');\n",
              "        buttonEl.style.display =\n",
              "          google.colab.kernel.accessAllowed ? 'block' : 'none';\n",
              "\n",
              "        async function convertToInteractive(key) {\n",
              "          const element = document.querySelector('#df-a6cc66db-1389-4fd5-8909-62d03c574e97');\n",
              "          const dataTable =\n",
              "            await google.colab.kernel.invokeFunction('convertToInteractive',\n",
              "                                                     [key], {});\n",
              "          if (!dataTable) return;\n",
              "\n",
              "          const docLinkHtml = 'Like what you see? Visit the ' +\n",
              "            '<a target=\"_blank\" href=https://colab.research.google.com/notebooks/data_table.ipynb>data table notebook</a>'\n",
              "            + ' to learn more about interactive tables.';\n",
              "          element.innerHTML = '';\n",
              "          dataTable['output_type'] = 'display_data';\n",
              "          await google.colab.output.renderOutput(dataTable, element);\n",
              "          const docLink = document.createElement('div');\n",
              "          docLink.innerHTML = docLinkHtml;\n",
              "          element.appendChild(docLink);\n",
              "        }\n",
              "      </script>\n",
              "    </div>\n",
              "  </div>\n",
              "  "
            ]
          },
          "metadata": {},
          "execution_count": 97
        }
      ]
    },
    {
      "cell_type": "code",
      "source": [
        "df_tidf_train['sentiment'] = y_train  #les notes qui sont classées en 0 et 1 "
      ],
      "metadata": {
        "id": "lNdbNvFBfbYt"
      },
      "execution_count": 98,
      "outputs": []
    },
    {
      "cell_type": "code",
      "source": [
        "df_best_word = df_tidf_train.groupby(['sentiment']).sum() #on groupe par 'sentiment' "
      ],
      "metadata": {
        "id": "bVwWfwtbfjF_"
      },
      "execution_count": 99,
      "outputs": []
    },
    {
      "cell_type": "code",
      "source": [
        "df_best_word"
      ],
      "metadata": {
        "colab": {
          "base_uri": "https://localhost:8080/",
          "height": 237
        },
        "id": "FtimVZbEl_sA",
        "outputId": "74bdb2e8-ac87-41cb-de9b-bc6fb6ab0668"
      },
      "execution_count": 100,
      "outputs": [
        {
          "output_type": "execute_result",
          "data": {
            "text/plain": [
              "            abandon    abattr      abim     abord     about      abri  \\\n",
              "sentiment                                                               \n",
              "0.0        0.000000  0.101181  0.000000  0.301431  0.036682  0.036682   \n",
              "1.0        0.117309  0.000000  0.179733  0.248846  0.000000  0.000000   \n",
              "\n",
              "             abscon    absenc    absolu  absten  ...   évident      évit  \\\n",
              "sentiment                                        ...                       \n",
              "0.0        0.039448  0.000000  0.298633     0.0  ...  0.333025  0.369547   \n",
              "1.0        0.000000  0.166631  0.352773     0.0  ...  0.209337  0.074518   \n",
              "\n",
              "              évolu  êre       êtr      être       île       œil      œuvr  \\\n",
              "sentiment                                                                    \n",
              "0.0        0.148366  0.0  0.906787  1.193387  0.146266  0.033198  0.275670   \n",
              "1.0        0.078730  0.0  0.561739  0.657278  0.106085  0.170247  0.589178   \n",
              "\n",
              "           œuvresc  \n",
              "sentiment           \n",
              "0.0            0.0  \n",
              "1.0            0.0  \n",
              "\n",
              "[2 rows x 2961 columns]"
            ],
            "text/html": [
              "\n",
              "  <div id=\"df-ef481d99-9611-42ff-bd1b-71e326e815c9\">\n",
              "    <div class=\"colab-df-container\">\n",
              "      <div>\n",
              "<style scoped>\n",
              "    .dataframe tbody tr th:only-of-type {\n",
              "        vertical-align: middle;\n",
              "    }\n",
              "\n",
              "    .dataframe tbody tr th {\n",
              "        vertical-align: top;\n",
              "    }\n",
              "\n",
              "    .dataframe thead th {\n",
              "        text-align: right;\n",
              "    }\n",
              "</style>\n",
              "<table border=\"1\" class=\"dataframe\">\n",
              "  <thead>\n",
              "    <tr style=\"text-align: right;\">\n",
              "      <th></th>\n",
              "      <th>abandon</th>\n",
              "      <th>abattr</th>\n",
              "      <th>abim</th>\n",
              "      <th>abord</th>\n",
              "      <th>about</th>\n",
              "      <th>abri</th>\n",
              "      <th>abscon</th>\n",
              "      <th>absenc</th>\n",
              "      <th>absolu</th>\n",
              "      <th>absten</th>\n",
              "      <th>...</th>\n",
              "      <th>évident</th>\n",
              "      <th>évit</th>\n",
              "      <th>évolu</th>\n",
              "      <th>êre</th>\n",
              "      <th>êtr</th>\n",
              "      <th>être</th>\n",
              "      <th>île</th>\n",
              "      <th>œil</th>\n",
              "      <th>œuvr</th>\n",
              "      <th>œuvresc</th>\n",
              "    </tr>\n",
              "    <tr>\n",
              "      <th>sentiment</th>\n",
              "      <th></th>\n",
              "      <th></th>\n",
              "      <th></th>\n",
              "      <th></th>\n",
              "      <th></th>\n",
              "      <th></th>\n",
              "      <th></th>\n",
              "      <th></th>\n",
              "      <th></th>\n",
              "      <th></th>\n",
              "      <th></th>\n",
              "      <th></th>\n",
              "      <th></th>\n",
              "      <th></th>\n",
              "      <th></th>\n",
              "      <th></th>\n",
              "      <th></th>\n",
              "      <th></th>\n",
              "      <th></th>\n",
              "      <th></th>\n",
              "      <th></th>\n",
              "    </tr>\n",
              "  </thead>\n",
              "  <tbody>\n",
              "    <tr>\n",
              "      <th>0.0</th>\n",
              "      <td>0.000000</td>\n",
              "      <td>0.101181</td>\n",
              "      <td>0.000000</td>\n",
              "      <td>0.301431</td>\n",
              "      <td>0.036682</td>\n",
              "      <td>0.036682</td>\n",
              "      <td>0.039448</td>\n",
              "      <td>0.000000</td>\n",
              "      <td>0.298633</td>\n",
              "      <td>0.0</td>\n",
              "      <td>...</td>\n",
              "      <td>0.333025</td>\n",
              "      <td>0.369547</td>\n",
              "      <td>0.148366</td>\n",
              "      <td>0.0</td>\n",
              "      <td>0.906787</td>\n",
              "      <td>1.193387</td>\n",
              "      <td>0.146266</td>\n",
              "      <td>0.033198</td>\n",
              "      <td>0.275670</td>\n",
              "      <td>0.0</td>\n",
              "    </tr>\n",
              "    <tr>\n",
              "      <th>1.0</th>\n",
              "      <td>0.117309</td>\n",
              "      <td>0.000000</td>\n",
              "      <td>0.179733</td>\n",
              "      <td>0.248846</td>\n",
              "      <td>0.000000</td>\n",
              "      <td>0.000000</td>\n",
              "      <td>0.000000</td>\n",
              "      <td>0.166631</td>\n",
              "      <td>0.352773</td>\n",
              "      <td>0.0</td>\n",
              "      <td>...</td>\n",
              "      <td>0.209337</td>\n",
              "      <td>0.074518</td>\n",
              "      <td>0.078730</td>\n",
              "      <td>0.0</td>\n",
              "      <td>0.561739</td>\n",
              "      <td>0.657278</td>\n",
              "      <td>0.106085</td>\n",
              "      <td>0.170247</td>\n",
              "      <td>0.589178</td>\n",
              "      <td>0.0</td>\n",
              "    </tr>\n",
              "  </tbody>\n",
              "</table>\n",
              "<p>2 rows × 2961 columns</p>\n",
              "</div>\n",
              "      <button class=\"colab-df-convert\" onclick=\"convertToInteractive('df-ef481d99-9611-42ff-bd1b-71e326e815c9')\"\n",
              "              title=\"Convert this dataframe to an interactive table.\"\n",
              "              style=\"display:none;\">\n",
              "        \n",
              "  <svg xmlns=\"http://www.w3.org/2000/svg\" height=\"24px\"viewBox=\"0 0 24 24\"\n",
              "       width=\"24px\">\n",
              "    <path d=\"M0 0h24v24H0V0z\" fill=\"none\"/>\n",
              "    <path d=\"M18.56 5.44l.94 2.06.94-2.06 2.06-.94-2.06-.94-.94-2.06-.94 2.06-2.06.94zm-11 1L8.5 8.5l.94-2.06 2.06-.94-2.06-.94L8.5 2.5l-.94 2.06-2.06.94zm10 10l.94 2.06.94-2.06 2.06-.94-2.06-.94-.94-2.06-.94 2.06-2.06.94z\"/><path d=\"M17.41 7.96l-1.37-1.37c-.4-.4-.92-.59-1.43-.59-.52 0-1.04.2-1.43.59L10.3 9.45l-7.72 7.72c-.78.78-.78 2.05 0 2.83L4 21.41c.39.39.9.59 1.41.59.51 0 1.02-.2 1.41-.59l7.78-7.78 2.81-2.81c.8-.78.8-2.07 0-2.86zM5.41 20L4 18.59l7.72-7.72 1.47 1.35L5.41 20z\"/>\n",
              "  </svg>\n",
              "      </button>\n",
              "      \n",
              "  <style>\n",
              "    .colab-df-container {\n",
              "      display:flex;\n",
              "      flex-wrap:wrap;\n",
              "      gap: 12px;\n",
              "    }\n",
              "\n",
              "    .colab-df-convert {\n",
              "      background-color: #E8F0FE;\n",
              "      border: none;\n",
              "      border-radius: 50%;\n",
              "      cursor: pointer;\n",
              "      display: none;\n",
              "      fill: #1967D2;\n",
              "      height: 32px;\n",
              "      padding: 0 0 0 0;\n",
              "      width: 32px;\n",
              "    }\n",
              "\n",
              "    .colab-df-convert:hover {\n",
              "      background-color: #E2EBFA;\n",
              "      box-shadow: 0px 1px 2px rgba(60, 64, 67, 0.3), 0px 1px 3px 1px rgba(60, 64, 67, 0.15);\n",
              "      fill: #174EA6;\n",
              "    }\n",
              "\n",
              "    [theme=dark] .colab-df-convert {\n",
              "      background-color: #3B4455;\n",
              "      fill: #D2E3FC;\n",
              "    }\n",
              "\n",
              "    [theme=dark] .colab-df-convert:hover {\n",
              "      background-color: #434B5C;\n",
              "      box-shadow: 0px 1px 3px 1px rgba(0, 0, 0, 0.15);\n",
              "      filter: drop-shadow(0px 1px 2px rgba(0, 0, 0, 0.3));\n",
              "      fill: #FFFFFF;\n",
              "    }\n",
              "  </style>\n",
              "\n",
              "      <script>\n",
              "        const buttonEl =\n",
              "          document.querySelector('#df-ef481d99-9611-42ff-bd1b-71e326e815c9 button.colab-df-convert');\n",
              "        buttonEl.style.display =\n",
              "          google.colab.kernel.accessAllowed ? 'block' : 'none';\n",
              "\n",
              "        async function convertToInteractive(key) {\n",
              "          const element = document.querySelector('#df-ef481d99-9611-42ff-bd1b-71e326e815c9');\n",
              "          const dataTable =\n",
              "            await google.colab.kernel.invokeFunction('convertToInteractive',\n",
              "                                                     [key], {});\n",
              "          if (!dataTable) return;\n",
              "\n",
              "          const docLinkHtml = 'Like what you see? Visit the ' +\n",
              "            '<a target=\"_blank\" href=https://colab.research.google.com/notebooks/data_table.ipynb>data table notebook</a>'\n",
              "            + ' to learn more about interactive tables.';\n",
              "          element.innerHTML = '';\n",
              "          dataTable['output_type'] = 'display_data';\n",
              "          await google.colab.output.renderOutput(dataTable, element);\n",
              "          const docLink = document.createElement('div');\n",
              "          docLink.innerHTML = docLinkHtml;\n",
              "          element.appendChild(docLink);\n",
              "        }\n",
              "      </script>\n",
              "    </div>\n",
              "  </div>\n",
              "  "
            ]
          },
          "metadata": {},
          "execution_count": 100
        }
      ]
    },
    {
      "cell_type": "code",
      "source": [
        "df_best_word_transposed = df_best_word.T"
      ],
      "metadata": {
        "id": "wZLE_B1afnew"
      },
      "execution_count": 63,
      "outputs": []
    },
    {
      "cell_type": "code",
      "source": [
        "df_best_word_transposed.head()"
      ],
      "metadata": {
        "colab": {
          "base_uri": "https://localhost:8080/",
          "height": 206
        },
        "id": "jqZfsxOhfrZ0",
        "outputId": "1c06ca68-80d7-48f7-8d8e-3a8b0d9ad0a9"
      },
      "execution_count": 64,
      "outputs": [
        {
          "output_type": "execute_result",
          "data": {
            "text/plain": [
              "sentiment       0.0       1.0\n",
              "abandon    0.000000  0.117309\n",
              "abattr     0.101181  0.000000\n",
              "abim       0.000000  0.179733\n",
              "abord      0.301431  0.248846\n",
              "about      0.036682  0.000000"
            ],
            "text/html": [
              "\n",
              "  <div id=\"df-e260edc3-377e-4109-bff8-7549e4c22313\">\n",
              "    <div class=\"colab-df-container\">\n",
              "      <div>\n",
              "<style scoped>\n",
              "    .dataframe tbody tr th:only-of-type {\n",
              "        vertical-align: middle;\n",
              "    }\n",
              "\n",
              "    .dataframe tbody tr th {\n",
              "        vertical-align: top;\n",
              "    }\n",
              "\n",
              "    .dataframe thead th {\n",
              "        text-align: right;\n",
              "    }\n",
              "</style>\n",
              "<table border=\"1\" class=\"dataframe\">\n",
              "  <thead>\n",
              "    <tr style=\"text-align: right;\">\n",
              "      <th>sentiment</th>\n",
              "      <th>0.0</th>\n",
              "      <th>1.0</th>\n",
              "    </tr>\n",
              "  </thead>\n",
              "  <tbody>\n",
              "    <tr>\n",
              "      <th>abandon</th>\n",
              "      <td>0.000000</td>\n",
              "      <td>0.117309</td>\n",
              "    </tr>\n",
              "    <tr>\n",
              "      <th>abattr</th>\n",
              "      <td>0.101181</td>\n",
              "      <td>0.000000</td>\n",
              "    </tr>\n",
              "    <tr>\n",
              "      <th>abim</th>\n",
              "      <td>0.000000</td>\n",
              "      <td>0.179733</td>\n",
              "    </tr>\n",
              "    <tr>\n",
              "      <th>abord</th>\n",
              "      <td>0.301431</td>\n",
              "      <td>0.248846</td>\n",
              "    </tr>\n",
              "    <tr>\n",
              "      <th>about</th>\n",
              "      <td>0.036682</td>\n",
              "      <td>0.000000</td>\n",
              "    </tr>\n",
              "  </tbody>\n",
              "</table>\n",
              "</div>\n",
              "      <button class=\"colab-df-convert\" onclick=\"convertToInteractive('df-e260edc3-377e-4109-bff8-7549e4c22313')\"\n",
              "              title=\"Convert this dataframe to an interactive table.\"\n",
              "              style=\"display:none;\">\n",
              "        \n",
              "  <svg xmlns=\"http://www.w3.org/2000/svg\" height=\"24px\"viewBox=\"0 0 24 24\"\n",
              "       width=\"24px\">\n",
              "    <path d=\"M0 0h24v24H0V0z\" fill=\"none\"/>\n",
              "    <path d=\"M18.56 5.44l.94 2.06.94-2.06 2.06-.94-2.06-.94-.94-2.06-.94 2.06-2.06.94zm-11 1L8.5 8.5l.94-2.06 2.06-.94-2.06-.94L8.5 2.5l-.94 2.06-2.06.94zm10 10l.94 2.06.94-2.06 2.06-.94-2.06-.94-.94-2.06-.94 2.06-2.06.94z\"/><path d=\"M17.41 7.96l-1.37-1.37c-.4-.4-.92-.59-1.43-.59-.52 0-1.04.2-1.43.59L10.3 9.45l-7.72 7.72c-.78.78-.78 2.05 0 2.83L4 21.41c.39.39.9.59 1.41.59.51 0 1.02-.2 1.41-.59l7.78-7.78 2.81-2.81c.8-.78.8-2.07 0-2.86zM5.41 20L4 18.59l7.72-7.72 1.47 1.35L5.41 20z\"/>\n",
              "  </svg>\n",
              "      </button>\n",
              "      \n",
              "  <style>\n",
              "    .colab-df-container {\n",
              "      display:flex;\n",
              "      flex-wrap:wrap;\n",
              "      gap: 12px;\n",
              "    }\n",
              "\n",
              "    .colab-df-convert {\n",
              "      background-color: #E8F0FE;\n",
              "      border: none;\n",
              "      border-radius: 50%;\n",
              "      cursor: pointer;\n",
              "      display: none;\n",
              "      fill: #1967D2;\n",
              "      height: 32px;\n",
              "      padding: 0 0 0 0;\n",
              "      width: 32px;\n",
              "    }\n",
              "\n",
              "    .colab-df-convert:hover {\n",
              "      background-color: #E2EBFA;\n",
              "      box-shadow: 0px 1px 2px rgba(60, 64, 67, 0.3), 0px 1px 3px 1px rgba(60, 64, 67, 0.15);\n",
              "      fill: #174EA6;\n",
              "    }\n",
              "\n",
              "    [theme=dark] .colab-df-convert {\n",
              "      background-color: #3B4455;\n",
              "      fill: #D2E3FC;\n",
              "    }\n",
              "\n",
              "    [theme=dark] .colab-df-convert:hover {\n",
              "      background-color: #434B5C;\n",
              "      box-shadow: 0px 1px 3px 1px rgba(0, 0, 0, 0.15);\n",
              "      filter: drop-shadow(0px 1px 2px rgba(0, 0, 0, 0.3));\n",
              "      fill: #FFFFFF;\n",
              "    }\n",
              "  </style>\n",
              "\n",
              "      <script>\n",
              "        const buttonEl =\n",
              "          document.querySelector('#df-e260edc3-377e-4109-bff8-7549e4c22313 button.colab-df-convert');\n",
              "        buttonEl.style.display =\n",
              "          google.colab.kernel.accessAllowed ? 'block' : 'none';\n",
              "\n",
              "        async function convertToInteractive(key) {\n",
              "          const element = document.querySelector('#df-e260edc3-377e-4109-bff8-7549e4c22313');\n",
              "          const dataTable =\n",
              "            await google.colab.kernel.invokeFunction('convertToInteractive',\n",
              "                                                     [key], {});\n",
              "          if (!dataTable) return;\n",
              "\n",
              "          const docLinkHtml = 'Like what you see? Visit the ' +\n",
              "            '<a target=\"_blank\" href=https://colab.research.google.com/notebooks/data_table.ipynb>data table notebook</a>'\n",
              "            + ' to learn more about interactive tables.';\n",
              "          element.innerHTML = '';\n",
              "          dataTable['output_type'] = 'display_data';\n",
              "          await google.colab.output.renderOutput(dataTable, element);\n",
              "          const docLink = document.createElement('div');\n",
              "          docLink.innerHTML = docLinkHtml;\n",
              "          element.appendChild(docLink);\n",
              "        }\n",
              "      </script>\n",
              "    </div>\n",
              "  </div>\n",
              "  "
            ]
          },
          "metadata": {},
          "execution_count": 64
        }
      ]
    },
    {
      "cell_type": "code",
      "source": [
        "df_best_word_transposed.describe()"
      ],
      "metadata": {
        "colab": {
          "base_uri": "https://localhost:8080/",
          "height": 300
        },
        "id": "fbKBC9OIft1S",
        "outputId": "8145196e-d827-40e7-b6b9-5b860a1818a8"
      },
      "execution_count": 65,
      "outputs": [
        {
          "output_type": "execute_result",
          "data": {
            "text/plain": [
              "sentiment          0.0          1.0\n",
              "count      2961.000000  2961.000000\n",
              "mean          0.173746     0.187096\n",
              "std           0.336444     0.394440\n",
              "min           0.000000     0.000000\n",
              "25%           0.000000     0.000000\n",
              "50%           0.065874     0.081791\n",
              "75%           0.209765     0.221598\n",
              "max           5.240282     6.031960"
            ],
            "text/html": [
              "\n",
              "  <div id=\"df-a2972c8b-6391-41bb-90e3-7427f26e06a1\">\n",
              "    <div class=\"colab-df-container\">\n",
              "      <div>\n",
              "<style scoped>\n",
              "    .dataframe tbody tr th:only-of-type {\n",
              "        vertical-align: middle;\n",
              "    }\n",
              "\n",
              "    .dataframe tbody tr th {\n",
              "        vertical-align: top;\n",
              "    }\n",
              "\n",
              "    .dataframe thead th {\n",
              "        text-align: right;\n",
              "    }\n",
              "</style>\n",
              "<table border=\"1\" class=\"dataframe\">\n",
              "  <thead>\n",
              "    <tr style=\"text-align: right;\">\n",
              "      <th>sentiment</th>\n",
              "      <th>0.0</th>\n",
              "      <th>1.0</th>\n",
              "    </tr>\n",
              "  </thead>\n",
              "  <tbody>\n",
              "    <tr>\n",
              "      <th>count</th>\n",
              "      <td>2961.000000</td>\n",
              "      <td>2961.000000</td>\n",
              "    </tr>\n",
              "    <tr>\n",
              "      <th>mean</th>\n",
              "      <td>0.173746</td>\n",
              "      <td>0.187096</td>\n",
              "    </tr>\n",
              "    <tr>\n",
              "      <th>std</th>\n",
              "      <td>0.336444</td>\n",
              "      <td>0.394440</td>\n",
              "    </tr>\n",
              "    <tr>\n",
              "      <th>min</th>\n",
              "      <td>0.000000</td>\n",
              "      <td>0.000000</td>\n",
              "    </tr>\n",
              "    <tr>\n",
              "      <th>25%</th>\n",
              "      <td>0.000000</td>\n",
              "      <td>0.000000</td>\n",
              "    </tr>\n",
              "    <tr>\n",
              "      <th>50%</th>\n",
              "      <td>0.065874</td>\n",
              "      <td>0.081791</td>\n",
              "    </tr>\n",
              "    <tr>\n",
              "      <th>75%</th>\n",
              "      <td>0.209765</td>\n",
              "      <td>0.221598</td>\n",
              "    </tr>\n",
              "    <tr>\n",
              "      <th>max</th>\n",
              "      <td>5.240282</td>\n",
              "      <td>6.031960</td>\n",
              "    </tr>\n",
              "  </tbody>\n",
              "</table>\n",
              "</div>\n",
              "      <button class=\"colab-df-convert\" onclick=\"convertToInteractive('df-a2972c8b-6391-41bb-90e3-7427f26e06a1')\"\n",
              "              title=\"Convert this dataframe to an interactive table.\"\n",
              "              style=\"display:none;\">\n",
              "        \n",
              "  <svg xmlns=\"http://www.w3.org/2000/svg\" height=\"24px\"viewBox=\"0 0 24 24\"\n",
              "       width=\"24px\">\n",
              "    <path d=\"M0 0h24v24H0V0z\" fill=\"none\"/>\n",
              "    <path d=\"M18.56 5.44l.94 2.06.94-2.06 2.06-.94-2.06-.94-.94-2.06-.94 2.06-2.06.94zm-11 1L8.5 8.5l.94-2.06 2.06-.94-2.06-.94L8.5 2.5l-.94 2.06-2.06.94zm10 10l.94 2.06.94-2.06 2.06-.94-2.06-.94-.94-2.06-.94 2.06-2.06.94z\"/><path d=\"M17.41 7.96l-1.37-1.37c-.4-.4-.92-.59-1.43-.59-.52 0-1.04.2-1.43.59L10.3 9.45l-7.72 7.72c-.78.78-.78 2.05 0 2.83L4 21.41c.39.39.9.59 1.41.59.51 0 1.02-.2 1.41-.59l7.78-7.78 2.81-2.81c.8-.78.8-2.07 0-2.86zM5.41 20L4 18.59l7.72-7.72 1.47 1.35L5.41 20z\"/>\n",
              "  </svg>\n",
              "      </button>\n",
              "      \n",
              "  <style>\n",
              "    .colab-df-container {\n",
              "      display:flex;\n",
              "      flex-wrap:wrap;\n",
              "      gap: 12px;\n",
              "    }\n",
              "\n",
              "    .colab-df-convert {\n",
              "      background-color: #E8F0FE;\n",
              "      border: none;\n",
              "      border-radius: 50%;\n",
              "      cursor: pointer;\n",
              "      display: none;\n",
              "      fill: #1967D2;\n",
              "      height: 32px;\n",
              "      padding: 0 0 0 0;\n",
              "      width: 32px;\n",
              "    }\n",
              "\n",
              "    .colab-df-convert:hover {\n",
              "      background-color: #E2EBFA;\n",
              "      box-shadow: 0px 1px 2px rgba(60, 64, 67, 0.3), 0px 1px 3px 1px rgba(60, 64, 67, 0.15);\n",
              "      fill: #174EA6;\n",
              "    }\n",
              "\n",
              "    [theme=dark] .colab-df-convert {\n",
              "      background-color: #3B4455;\n",
              "      fill: #D2E3FC;\n",
              "    }\n",
              "\n",
              "    [theme=dark] .colab-df-convert:hover {\n",
              "      background-color: #434B5C;\n",
              "      box-shadow: 0px 1px 3px 1px rgba(0, 0, 0, 0.15);\n",
              "      filter: drop-shadow(0px 1px 2px rgba(0, 0, 0, 0.3));\n",
              "      fill: #FFFFFF;\n",
              "    }\n",
              "  </style>\n",
              "\n",
              "      <script>\n",
              "        const buttonEl =\n",
              "          document.querySelector('#df-a2972c8b-6391-41bb-90e3-7427f26e06a1 button.colab-df-convert');\n",
              "        buttonEl.style.display =\n",
              "          google.colab.kernel.accessAllowed ? 'block' : 'none';\n",
              "\n",
              "        async function convertToInteractive(key) {\n",
              "          const element = document.querySelector('#df-a2972c8b-6391-41bb-90e3-7427f26e06a1');\n",
              "          const dataTable =\n",
              "            await google.colab.kernel.invokeFunction('convertToInteractive',\n",
              "                                                     [key], {});\n",
              "          if (!dataTable) return;\n",
              "\n",
              "          const docLinkHtml = 'Like what you see? Visit the ' +\n",
              "            '<a target=\"_blank\" href=https://colab.research.google.com/notebooks/data_table.ipynb>data table notebook</a>'\n",
              "            + ' to learn more about interactive tables.';\n",
              "          element.innerHTML = '';\n",
              "          dataTable['output_type'] = 'display_data';\n",
              "          await google.colab.output.renderOutput(dataTable, element);\n",
              "          const docLink = document.createElement('div');\n",
              "          docLink.innerHTML = docLinkHtml;\n",
              "          element.appendChild(docLink);\n",
              "        }\n",
              "      </script>\n",
              "    </div>\n",
              "  </div>\n",
              "  "
            ]
          },
          "metadata": {},
          "execution_count": 65
        }
      ]
    },
    {
      "cell_type": "code",
      "source": [
        "word_neg = df_best_word_transposed.iloc[:,0].sort_values(ascending=False).head(100) #les mots qui sont classés 0 sont des commentaires négatifs"
      ],
      "metadata": {
        "id": "d3W8po_PlQck"
      },
      "execution_count": 66,
      "outputs": []
    },
    {
      "cell_type": "code",
      "source": [
        "word_pos = df_best_word_transposed.iloc[:,1].sort_values(ascending=False).head(100) #les mots qui sont classés 1 sont des commentaires positifs"
      ],
      "metadata": {
        "id": "36s83ogXldys"
      },
      "execution_count": 67,
      "outputs": []
    },
    {
      "cell_type": "code",
      "source": [
        "word_tri = [word for word in word_neg.index if word not in word_pos.index]"
      ],
      "metadata": {
        "id": "xNCUIjP0liA_"
      },
      "execution_count": 68,
      "outputs": []
    },
    {
      "cell_type": "code",
      "source": [
        "word_tri"
      ],
      "metadata": {
        "id": "qajfCO82llP4"
      },
      "execution_count": null,
      "outputs": []
    },
    {
      "cell_type": "code",
      "source": [
        "X_test.head()"
      ],
      "metadata": {
        "colab": {
          "base_uri": "https://localhost:8080/"
        },
        "id": "niknedTQmsPy",
        "outputId": "99d8cb33-9a09-4d15-d6ec-3f738df1afc0"
      },
      "execution_count": 70,
      "outputs": [
        {
          "output_type": "execute_result",
          "data": {
            "text/plain": [
              "195    [pas, déplais, regard, mais, d'énorm, ficel, s...\n",
              "236    [j'ai, pass, bon, moment, dev, squid, gam, déc...\n",
              "21     [décor, imag, sublim, melang, battl, royal, se...\n",
              "325    [on, a, toujour, droit, sempiternel, pseudo-ex...\n",
              "216    [malgr, l'engou, international, cet, ser, ne, ...\n",
              "Name: stemm, dtype: object"
            ]
          },
          "metadata": {},
          "execution_count": 70
        }
      ]
    },
    {
      "cell_type": "code",
      "source": [
        "y_test_predict = X_test.apply(lambda x: 0 if any(e in x for e in word_tri) else 1)  # "
      ],
      "metadata": {
        "id": "2cps_0YSm-CF"
      },
      "execution_count": 71,
      "outputs": []
    },
    {
      "cell_type": "code",
      "source": [
        "from sklearn.metrics import confusion_matrix\n",
        "confusion_matrix(y_test, y_test_predict)"
      ],
      "metadata": {
        "colab": {
          "base_uri": "https://localhost:8080/"
        },
        "id": "eqBWyNdzrmca",
        "outputId": "96b89d98-3c6a-4011-9c64-a2fbaf27225c"
      },
      "execution_count": 72,
      "outputs": [
        {
          "output_type": "execute_result",
          "data": {
            "text/plain": [
              "array([[42,  6],\n",
              "       [44, 11]])"
            ]
          },
          "metadata": {},
          "execution_count": 72
        }
      ]
    },
    {
      "cell_type": "code",
      "source": [
        "from sklearn.metrics import ConfusionMatrixDisplay\n",
        "cm= confusion_matrix(y_test,y_test_predict)\n",
        "disp= ConfusionMatrixDisplay(confusion_matrix=cm)\n",
        "disp.plot(xticks_rotation='vertical')\n",
        "plt.title('tf-idf')\n",
        "plt.show"
      ],
      "metadata": {
        "colab": {
          "base_uri": "https://localhost:8080/",
          "height": 309
        },
        "id": "RUjVwPIsvqwb",
        "outputId": "dd675ca0-c2e2-4b57-e411-bffeb92f4e89"
      },
      "execution_count": 73,
      "outputs": [
        {
          "output_type": "execute_result",
          "data": {
            "text/plain": [
              "<function matplotlib.pyplot.show>"
            ]
          },
          "metadata": {},
          "execution_count": 73
        },
        {
          "output_type": "display_data",
          "data": {
            "text/plain": [
              "<Figure size 432x288 with 2 Axes>"
            ],
            "image/png": "[encoded data removed]"
          },
          "metadata": {
            "needs_background": "light"
          }
        }
      ]
    },
    {
      "cell_type": "code",
      "source": [
        "metrics.accuracy_score(y_test, y_test_predict) #clacul de l'accuracy \n",
        "#y_tue, y_predict"
      ],
      "metadata": {
        "colab": {
          "base_uri": "https://localhost:8080/"
        },
        "id": "94V1-UG2az3N",
        "outputId": "287205d4-7f07-4851-f2fa-fe70aa939120"
      },
      "execution_count": 74,
      "outputs": [
        {
          "output_type": "execute_result",
          "data": {
            "text/plain": [
              "0.5145631067961165"
            ]
          },
          "metadata": {},
          "execution_count": 74
        }
      ]
    },
    {
      "cell_type": "markdown",
      "source": [
        "accuracy=0,51\n",
        "on constate que notre modèle n'est pas fou, nous nous sommes pas loin de la proba similaire à un lancer d'une pièce²"
      ],
      "metadata": {
        "id": "HPP0gRlX2MgD"
      }
    },
    {
      "cell_type": "markdown",
      "source": [
        "##CountVectorizer"
      ],
      "metadata": {
        "id": "6-1RcquK2M9g"
      }
    },
    {
      "cell_type": "markdown",
      "source": [
        "https://scikit-learn.org/stable/modules/generated/sklearn.feature_extraction.text.CountVectorizer.html "
      ],
      "metadata": {
        "id": "8Ax5xf_52Yrq"
      }
    },
    {
      "cell_type": "code",
      "source": [
        "X_train2, X_test2, y_train2, y_test2 = train_test_split(df['stemm'],df_y, test_size=0.3, random_state=27)"
      ],
      "metadata": {
        "id": "KTYDUl244xrg"
      },
      "execution_count": 101,
      "outputs": []
    },
    {
      "cell_type": "code",
      "source": [
        "from sklearn.feature_extraction.text import CountVectorizer\n",
        "vectorizer = CountVectorizer()\n",
        "X_train2_cv = vectorizer.fit_transform([\" \".join(words) for words in X_train2])\n",
        "X2_test_cv = vectorizer.transform([\" \".join(words) for words in X_test2])\n",
        "vectorizer.get_feature_names_out()"
      ],
      "metadata": {
        "colab": {
          "base_uri": "https://localhost:8080/"
        },
        "id": "g3cl-O5JyyNN",
        "outputId": "6babc60a-4c1e-45f1-ef8d-d765d62c0048"
      },
      "execution_count": 76,
      "outputs": [
        {
          "output_type": "execute_result",
          "data": {
            "text/plain": [
              "array(['abandon', 'abattr', 'abim', ..., 'œil', 'œuvr', 'œuvresc'],\n",
              "      dtype=object)"
            ]
          },
          "metadata": {},
          "execution_count": 76
        }
      ]
    },
    {
      "cell_type": "markdown",
      "source": [
        "##BernouilliNB\n",
        "doc: https://scikit-learn.org/stable/modules/generated/sklearn.naive_bayes.BernoulliNB.html"
      ],
      "metadata": {
        "id": "Q4xdyUkrOrbB"
      }
    },
    {
      "cell_type": "code",
      "source": [
        "from sklearn.naive_bayes import MultinomialNB\n",
        "from sklearn.naive_bayes import BernoulliNB"
      ],
      "metadata": {
        "id": "kt2OcfCNOztj"
      },
      "execution_count": 77,
      "outputs": []
    },
    {
      "cell_type": "code",
      "source": [
        "clfb = BernoulliNB()\n",
        "clfb.fit(X_train2_cv, y_train2)\n",
        "print(clfb.predict(X2_test_cv))"
      ],
      "metadata": {
        "colab": {
          "base_uri": "https://localhost:8080/"
        },
        "id": "h3OWwLr5O9Qb",
        "outputId": "c4e3174f-fdb8-4b15-814b-d66f2c844154"
      },
      "execution_count": 78,
      "outputs": [
        {
          "output_type": "stream",
          "name": "stdout",
          "text": [
            "[1 1 1 1 0 1 1 1 1 1 0 1 0 1 0 1 1 1 0 1 1 1 1 0 1 1 1 1 0 1 1 1 0 1 0 1 0\n",
            " 1 0 1 1 1 1 1 0 1 1 0 1 1 0 1 1 1 0 0 1 0 1 1 1 0 1 1 1 0 1 1 1 1 0 1 0 1\n",
            " 1 1 1 1 1 1 1 1 0 1 0 1 1 0 1 1 1 1 1 1 1 1 1 0 1 0 1 1 1]\n"
          ]
        }
      ]
    },
    {
      "cell_type": "code",
      "source": [
        "ypred = clfb.predict(X2_test_cv)"
      ],
      "metadata": {
        "id": "sFu1NeNQZcAh"
      },
      "execution_count": 79,
      "outputs": []
    },
    {
      "cell_type": "code",
      "source": [
        "cm = confusion_matrix(y_test2, ypred)\n",
        "disp = ConfusionMatrixDisplay(confusion_matrix=cm)\n",
        "disp.plot(xticks_rotation='vertical')\n",
        "plt.title('BernoulliNB')\n",
        "plt.show()"
      ],
      "metadata": {
        "colab": {
          "base_uri": "https://localhost:8080/",
          "height": 292
        },
        "id": "Y_8y4tR4Zhe2",
        "outputId": "65c9fe3e-64c5-4f06-e1c6-41b932be779d"
      },
      "execution_count": 80,
      "outputs": [
        {
          "output_type": "display_data",
          "data": {
            "text/plain": [
              "<Figure size 432x288 with 2 Axes>"
            ],
            "image/png": "[encoded data removed]"
          },
          "metadata": {
            "needs_background": "light"
          }
        }
      ]
    },
    {
      "cell_type": "code",
      "source": [
        "metrics.accuracy_score(y_test2, ypred)"
      ],
      "metadata": {
        "colab": {
          "base_uri": "https://localhost:8080/"
        },
        "id": "2EfFVR3jZzeg",
        "outputId": "4125b1fe-3587-4247-c445-3d86372b884f"
      },
      "execution_count": 81,
      "outputs": [
        {
          "output_type": "execute_result",
          "data": {
            "text/plain": [
              "0.6699029126213593"
            ]
          },
          "metadata": {},
          "execution_count": 81
        }
      ]
    },
    {
      "cell_type": "markdown",
      "source": [
        "##MultinomialNB\n",
        "doc: https://scikit-learn.org/stable/modules/generated/sklearn.naive_bayes.MultinomialNB.html\n"
      ],
      "metadata": {
        "id": "-F-IQutBVBfS"
      }
    },
    {
      "cell_type": "code",
      "source": [
        " from sklearn.naive_bayes import MultinomialNB"
      ],
      "metadata": {
        "id": "Z9_Hv09XRxWh"
      },
      "execution_count": 103,
      "outputs": []
    },
    {
      "cell_type": "code",
      "source": [
        "clf = MultinomialNB()\n",
        "clf.fit(X_train2_cv, y_train2)\n",
        "MultinomialNB()\n",
        "print(clf.predict(X2_test_cv))"
      ],
      "metadata": {
        "colab": {
          "base_uri": "https://localhost:8080/"
        },
        "id": "O25Uzv3BVkzI",
        "outputId": "8f1fe517-249b-413e-f656-315182a561a0"
      },
      "execution_count": 104,
      "outputs": [
        {
          "output_type": "stream",
          "name": "stdout",
          "text": [
            "[0 0 1 0 0 0 0 1 1 1 0 1 0 1 0 1 0 0 0 1 0 1 1 0 1 1 1 0 1 1 1 0 0 1 0 1 0\n",
            " 1 0 0 0 1 1 1 0 1 1 0 0 0 0 1 1 0 0 0 0 0 0 1 1 0 1 1 1 0 0 0 1 1 0 0 0 0\n",
            " 0 1 0 1 1 1 1 0 0 0 0 1 1 0 1 1 1 0 0 1 0 0 0 0 1 0 1 1 1]\n"
          ]
        }
      ]
    },
    {
      "cell_type": "code",
      "source": [
        "ypred_m=clf.predict(X2_test_cv)"
      ],
      "metadata": {
        "id": "WiePjlqdKaH2"
      },
      "execution_count": 107,
      "outputs": []
    },
    {
      "cell_type": "code",
      "source": [
        "cm = confusion_matrix(y_test2, ypred_m)\n",
        "disp = ConfusionMatrixDisplay(confusion_matrix=cm)\n",
        "disp.plot(xticks_rotation='vertical')\n",
        "plt.title('MultinomialNB')\n",
        "plt.show()"
      ],
      "metadata": {
        "colab": {
          "base_uri": "https://localhost:8080/",
          "height": 292
        },
        "id": "vln_VnxdY7Ge",
        "outputId": "882f2d4f-e51c-4a60-8bf0-1176cbb3789f"
      },
      "execution_count": 108,
      "outputs": [
        {
          "output_type": "display_data",
          "data": {
            "text/plain": [
              "<Figure size 432x288 with 2 Axes>"
            ],
            "image/png": "[encoded data removed]"
          },
          "metadata": {
            "needs_background": "light"
          }
        }
      ]
    },
    {
      "cell_type": "code",
      "source": [
        "metrics.accuracy_score(y_test2, ypred_m)"
      ],
      "metadata": {
        "colab": {
          "base_uri": "https://localhost:8080/"
        },
        "id": "ORX5uCdp9K9M",
        "outputId": "8f6c6dfd-8954-472e-b5a5-29ceab24d67e"
      },
      "execution_count": 110,
      "outputs": [
        {
          "output_type": "execute_result",
          "data": {
            "text/plain": [
              "0.7184466019417476"
            ]
          },
          "metadata": {},
          "execution_count": 110
        }
      ]
    },
    {
      "cell_type": "markdown",
      "source": [
        "on a une accuracy meilleur, ce modèle se trompe moins sur les FN et FP"
      ],
      "metadata": {
        "id": "2KAqTTzWKy8y"
      }
    },
    {
      "cell_type": "markdown",
      "source": [
        "##GaussianNB"
      ],
      "metadata": {
        "id": "a1DVFWRX9LYL"
      }
    },
    {
      "cell_type": "markdown",
      "source": [
        "doc: https://scikit-learn.org/stable/modules/generated/sklearn.naive_bayes.GaussianNB.html "
      ],
      "metadata": {
        "id": "FGVgQqj49RaN"
      }
    },
    {
      "cell_type": "code",
      "source": [
        "from sklearn.naive_bayes import GaussianNB\n",
        "clf = GaussianNB()\n",
        "clf.fit(X_train2_cv.toarray(), y_train2)\n",
        "GaussianNB()\n",
        "ppp=clf.predict(X2_test_cv.toarray())"
      ],
      "metadata": {
        "id": "nAckkEFs9N0y"
      },
      "execution_count": 124,
      "outputs": []
    },
    {
      "cell_type": "code",
      "source": [
        "y_pred()"
      ],
      "metadata": {
        "id": "Ztf078BgLC6f"
      },
      "execution_count": null,
      "outputs": []
    }
  ]
}